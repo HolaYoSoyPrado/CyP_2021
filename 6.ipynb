{
  "nbformat": 4,
  "nbformat_minor": 0,
  "metadata": {
    "colab": {
      "name": "6.ipynb",
      "provenance": [],
      "authorship_tag": "ABX9TyMEbc1EsgRTZ/Z7hhNWFS/x",
      "include_colab_link": true
    },
    "kernelspec": {
      "name": "python3",
      "display_name": "Python 3"
    }
  },
  "cells": [
    {
      "cell_type": "markdown",
      "metadata": {
        "id": "view-in-github",
        "colab_type": "text"
      },
      "source": [
        "<a href=\"https://colab.research.google.com/github/HolaYoSoyPrado/cyp_2021/blob/main/6.ipynb\" target=\"_parent\"><img src=\"https://colab.research.google.com/assets/colab-badge.svg\" alt=\"Open In Colab\"/></a>"
      ]
    },
    {
      "cell_type": "code",
      "metadata": {
        "id": "dlV00yj0IDBG",
        "colab": {
          "base_uri": "https://localhost:8080/"
        },
        "outputId": "4477cbb0-db61-4f23-e360-2e5fe650ccfd"
      },
      "source": [
        "#Problema 3.3 SERIE_TRES\r\n",
        "serie=0\r\n",
        "N=int(input(\"Introduce un numero entero:\"))\r\n",
        "band=True\r\n",
        "I=1\r\n",
        "\r\n",
        "while I<=N:\r\n",
        "  if band==True:\r\n",
        "     serie=serie+1/I\r\n",
        "     band=False\r\n",
        "     I=I+1\r\n",
        "  else:\r\n",
        "    serie-=(1/I)\r\n",
        "    band=True\r\n",
        "    I=I+1\r\n",
        "print(\"El resultado de la serie es:\",serie)"
      ],
      "execution_count": null,
      "outputs": [
        {
          "output_type": "stream",
          "text": [
            "Introduce un numero entero:9\n",
            "El resultado de la serie es: 0.7456349206349207\n"
          ],
          "name": "stdout"
        }
      ]
    },
    {
      "cell_type": "code",
      "metadata": {
        "id": "EHsmriqpoW6Q",
        "colab": {
          "base_uri": "https://localhost:8080/"
        },
        "outputId": "73bfe642-a496-43cb-963f-3f20ed1c92e6"
      },
      "source": [
        "#Problema 3.4 AUMENTO_SUELDO\r\n",
        "NOM=0\r\n",
        "sueldo=0\r\n",
        "while sueldo !=-1:\r\n",
        "  sueldo=int(input(\"Introduce sueldo del trabajador:\"))\r\n",
        "  if sueldo<1000:\r\n",
        "    NSUE=sueldo*1.15\r\n",
        "  else:\r\n",
        "    NSUE=sueldo*1.12\r\n",
        "  NOM=NOM+NSUE\r\n",
        "  print(f\"Nuevo sueldo:\",NSUE )\r\n",
        "  print(f\"Nomina:\",NOM)"
      ],
      "execution_count": 367,
      "outputs": [
        {
          "output_type": "stream",
          "text": [
            "Introduce sueldo del trabajador:855\n",
            "Nuevo sueldo: 983.2499999999999\n",
            "Nomina: 983.2499999999999\n",
            "Introduce sueldo del trabajador:760\n",
            "Nuevo sueldo: 873.9999999999999\n",
            "Nomina: 1857.2499999999998\n",
            "Introduce sueldo del trabajador:1100\n",
            "Nuevo sueldo: 1232.0000000000002\n",
            "Nomina: 3089.25\n",
            "Introduce sueldo del trabajador:614\n",
            "Nuevo sueldo: 706.0999999999999\n",
            "Nomina: 3795.35\n",
            "Introduce sueldo del trabajador:2600\n",
            "Nuevo sueldo: 2912.0000000000005\n",
            "Nomina: 6707.35\n",
            "Introduce sueldo del trabajador:1280\n",
            "Nuevo sueldo: 1433.6000000000001\n",
            "Nomina: 8140.950000000001\n",
            "Introduce sueldo del trabajador:687\n",
            "Nuevo sueldo: 790.05\n",
            "Nomina: 8931.0\n",
            "Introduce sueldo del trabajador:-1\n",
            "Nuevo sueldo: -1.15\n",
            "Nomina: 8929.85\n"
          ],
          "name": "stdout"
        }
      ]
    },
    {
      "cell_type": "code",
      "metadata": {
        "colab": {
          "base_uri": "https://localhost:8080/"
        },
        "id": "ha0SLSr-Dujw",
        "outputId": "0132d0bb-1cc1-4af5-e004-c5f46f623570"
      },
      "source": [
        "#Problema 3.5 PROMEDIO_NUMEROS\r\n",
        "\r\n",
        "SUMPOS=0\r\n",
        "CUEPOS=0\r\n",
        "SUMOTR=0\r\n",
        "\r\n",
        "N=int(input(\"Ingrese un numero de datos que va a ingresar:\"))\r\n",
        "I=1\r\n",
        "while I<=N:\r\n",
        "  NUM=int(input(\"Ingrese un numero:\"))\r\n",
        "  if NUM>0:\r\n",
        "    SUMPOS=SUMPOS+NUM\r\n",
        "    CUEPOS=CUEPOS+1\r\n",
        "  else:\r\n",
        "    SUMOTR=SUMOTR+NUM\r\n",
        "  I=I+1\r\n",
        "PROGEN=(SUMPOS+SUMOTR)/N\r\n",
        "PROPOS=SUMPOS/CUEPOS\r\n",
        "print(f\"CUEPOS\",CUEPOS)\r\n",
        "print(f\"PROPOS\",PROPOS)\r\n",
        "print(f\"PROGEN\",PROGEN)"
      ],
      "execution_count": 383,
      "outputs": [
        {
          "output_type": "stream",
          "text": [
            "Ingrese un numero de datos que va a ingresar:20\n",
            "Ingrese un numero:7\n",
            "Ingrese un numero:12\n",
            "Ingrese un numero:0\n",
            "Ingrese un numero:6\n",
            "Ingrese un numero:11\n",
            "Ingrese un numero:-3\n",
            "Ingrese un numero:17\n",
            "Ingrese un numero:12\n",
            "Ingrese un numero:19\n",
            "Ingrese un numero:0\n",
            "Ingrese un numero:11\n",
            "Ingrese un numero:4\n",
            "Ingrese un numero:-5\n",
            "Ingrese un numero:-1\n",
            "Ingrese un numero:0\n",
            "Ingrese un numero:3\n",
            "Ingrese un numero:24\n",
            "Ingrese un numero:0\n",
            "Ingrese un numero:3\n",
            "Ingrese un numero:-16\n",
            "CUEPOS 12\n",
            "PROPOS 10.75\n",
            "PROGEN 5.2\n"
          ],
          "name": "stdout"
        }
      ]
    },
    {
      "cell_type": "code",
      "metadata": {
        "colab": {
          "base_uri": "https://localhost:8080/"
        },
        "id": "LMTeGit1H2YA",
        "outputId": "7fb3de5b-d141-4748-d685-c910512c8ebe"
      },
      "source": [
        "#Problema 3.6 MAYOR_Y_MENOR\r\n",
        "may=-100000\r\n",
        "men=100000\r\n",
        "N=int(input(\"Ingrese el numero de valores:\"))\r\n",
        "I=1\r\n",
        "while I<=N:\r\n",
        "  NUM=int(input(\"Ingrese un numero:\"))\r\n",
        "  if NUM > may:\r\n",
        "    may=NUM\r\n",
        "  else:\r\n",
        "    NUM < men\r\n",
        "    men=NUM\r\n",
        "  I=I+1\r\n",
        "print(f\"\",may)\r\n",
        "print(f\"\",men)\r\n",
        "  \r\n",
        "\r\n"
      ],
      "execution_count": 393,
      "outputs": [
        {
          "output_type": "stream",
          "text": [
            "Ingrese el numero de valores:12\n",
            "Ingrese un numero:170\n",
            "Ingrese un numero:44\n",
            "Ingrese un numero:815\n",
            "Ingrese un numero:1700\n",
            "Ingrese un numero:38\n",
            "Ingrese un numero:140\n",
            "Ingrese un numero:380\n",
            "Ingrese un numero:1020\n",
            "Ingrese un numero:116\n",
            "Ingrese un numero:14\n",
            "Ingrese un numero:730\n",
            "Ingrese un numero:960\n",
            " 1700\n",
            " 960\n"
          ],
          "name": "stdout"
        }
      ]
    },
    {
      "cell_type": "code",
      "metadata": {
        "colab": {
          "base_uri": "https://localhost:8080/"
        },
        "id": "M7ecSmExK_cf",
        "outputId": "82aab9c2-cc1f-4c2e-d03c-0ec4dd8ac3f2"
      },
      "source": [
        "#Problema 3.7 VENDEDOR\r\n",
        "CHI=0\r\n",
        "MED=0\r\n",
        "GRA=0\r\n",
        "\r\n",
        "N=int(input(\"Ingrese N:\"))\r\n",
        "\r\n",
        "I=1\r\n",
        "while I<=N:\r\n",
        "  V=int(input(\"Ingrese V:\"))\r\n",
        "  if V<200:\r\n",
        "    CHI=CHI+1\r\n",
        "  elif V<400:\r\n",
        "    MED=MED+1\r\n",
        "    GRA=GRA+1\r\n",
        "  I=I+1\r\n",
        "print(f\"\",CHI)\r\n",
        "print(f\"\",MED)\r\n",
        "print(f\"\",GRA)"
      ],
      "execution_count": 448,
      "outputs": [
        {
          "output_type": "stream",
          "text": [
            "Ingrese N:12\n",
            "Ingrese V:180\n",
            "Ingrese V:470\n",
            "Ingrese V:150\n",
            "Ingrese V:88\n",
            "Ingrese V:230\n",
            "Ingrese V:170\n",
            "Ingrese V:40\n",
            "Ingrese V:201\n",
            "Ingrese V:60\n",
            "Ingrese V:280\n",
            "Ingrese V:15\n",
            "Ingrese V:140\n",
            " 8\n",
            " 3\n",
            " 3\n"
          ],
          "name": "stdout"
        }
      ]
    },
    {
      "cell_type": "code",
      "metadata": {
        "colab": {
          "base_uri": "https://localhost:8080/"
        },
        "id": "3sTDFdyKPt1t",
        "outputId": "670efcd2-052c-4281-b717-e81a29140917"
      },
      "source": [
        "#Problema 3.8 ULAM\r\n",
        "\r\n",
        "NUM=int(input(\"Introduce un numero:\"))\r\n",
        "while NUM>0:\r\n",
        "  while NUM >=1:\r\n",
        "    NUM=int(input(\"Ingrese un numero:\"))\r\n",
        "    if (-1**NUM)>0:\r\n",
        "      NUM=NUM/2\r\n",
        "    else:\r\n",
        "      NUM=NUM*3+1\r\n",
        "    print(f\"Num\",NUM)\r\n",
        "print(f\"Introduce un numero entero positivo:\")\r\n"
      ],
      "execution_count": 497,
      "outputs": [
        {
          "output_type": "stream",
          "text": [
            "Introduce un numero:25\n",
            "Ingrese un numero:95\n",
            "Num 286\n",
            "Ingrese un numero:1\n",
            "Num 4\n",
            "Ingrese un numero:-1\n",
            "Num -2\n",
            "Introduce un numero entero positivo:\n"
          ],
          "name": "stdout"
        }
      ]
    },
    {
      "cell_type": "code",
      "metadata": {
        "colab": {
          "base_uri": "https://localhost:8080/"
        },
        "id": "l3u68MZOU3QU",
        "outputId": "e9264b29-ce59-48c9-8c09-eeb7f008d493"
      },
      "source": [
        "#Problema 3.9 SERIE\r\n",
        "\r\n",
        "band=True\r\n",
        "serie=0\r\n",
        "N=int(input(\"Ingrese N:\"))\r\n",
        "I=1\r\n",
        "while I<=N:\r\n",
        "  serie=serie+I**I\r\n",
        "  print(f\"{I},\", end=\"\")\r\n",
        "  I=I+1\r\n",
        "print(\"\\nLa suma de la serie es:\", serie)"
      ],
      "execution_count": 511,
      "outputs": [
        {
          "output_type": "stream",
          "text": [
            "Ingrese N:8\n",
            "1,2,3,4,5,6,7,8,\n",
            "La suma de la serie es: 17650828\n"
          ],
          "name": "stdout"
        }
      ]
    },
    {
      "cell_type": "code",
      "metadata": {
        "colab": {
          "base_uri": "https://localhost:8080/"
        },
        "id": "roxJH6CdXnZD",
        "outputId": "3041d61a-d86b-4f98-8ab1-e1b66ec77072"
      },
      "source": [
        "#Problema 3.10 FIBONACCI\r\n",
        "\r\n",
        "PRI=0\r\n",
        "SEG=1\r\n",
        "I=3\r\n",
        "while I<=7:\r\n",
        "  SIG=PRI+SEG\r\n",
        "  PRI=SEG\r\n",
        "  SEG=SIG\r\n",
        "  I=I+1\r\n",
        "print(f\"\",SIG)"
      ],
      "execution_count": 531,
      "outputs": [
        {
          "output_type": "stream",
          "text": [
            " 8\n"
          ],
          "name": "stdout"
        }
      ]
    },
    {
      "cell_type": "code",
      "metadata": {
        "id": "9PWXh49XanaU"
      },
      "source": [
        "#Problema 3.11 \r\n",
        "CAN1=0\r\n",
        "CAN2=0\r\n",
        "CAN3=0\r\n",
        "CAN4=0\r\n",
        "VOTO=int(input(\"Ingresa voto:\"))\r\n",
        "while VOTO>=0:\r\n",
        "  CAN1=CAN1+1\r\n",
        "  CAN2=CAN2+1\r\n",
        "  CAN3=CAN3+1\r\n",
        "  CAN4=CAN4+1\r\n",
        "  I=I+1\r\n"
      ],
      "execution_count": 621,
      "outputs": []
    },
    {
      "cell_type": "code",
      "metadata": {
        "colab": {
          "base_uri": "https://localhost:8080/"
        },
        "id": "rzT7t0EtdcLq",
        "outputId": "48c34b73-3d3f-4d49-cc88-889d82f39221"
      },
      "source": [
        "#Problema 3.12 MAYOR_SUELDO\r\n",
        "MASUE=0\r\n",
        "N=int(input(\"Ingresa N:\"))\r\n",
        "I=1\r\n",
        "while I<=N:\r\n",
        "  NUMEMP=int(input(\"Ingresa NUMEMP:\"))\r\n",
        "  SUE=int(input(\"Ingresa SUE:\"))\r\n",
        "  if SUE>MASUE:\r\n",
        "    MASUE=SUE\r\n",
        "    MANUM=NUMEMP\r\n",
        "  else:\r\n",
        "    I=I+1\r\n",
        "    print(\"\",MANUM)\r\n",
        "    print(\"\",MASUE)"
      ],
      "execution_count": 619,
      "outputs": [
        {
          "output_type": "stream",
          "text": [
            "Ingresa N:6\n",
            "Ingresa NUMEMP:1235\n",
            "Ingresa SUE:2580\n",
            "Ingresa NUMEMP:1260\n",
            "Ingresa SUE:1400\n",
            " 1235\n",
            " 2580\n",
            "Ingresa NUMEMP:1325\n",
            "Ingresa SUE:3600\n",
            "Ingresa NUMEMP:1418\n",
            "Ingresa SUE:2720\n",
            " 1325\n",
            " 3600\n",
            "Ingresa NUMEMP:1650\n",
            "Ingresa SUE:4120\n",
            "Ingresa NUMEMP:1717\n",
            "Ingresa SUE:1950\n",
            " 1650\n",
            " 4120\n",
            "Ingresa NUMEMP:1717\n",
            "Ingresa SUE:1950\n",
            " 1650\n",
            " 4120\n",
            "Ingresa NUMEMP:1717\n",
            "Ingresa SUE:1950\n",
            " 1650\n",
            " 4120\n",
            "Ingresa NUMEMP:154141\n",
            "Ingresa SUE:141441\n",
            "Ingresa NUMEMP:41441\n",
            "Ingresa SUE:41441\n",
            " 154141\n",
            " 141441\n"
          ],
          "name": "stdout"
        }
      ]
    },
    {
      "cell_type": "code",
      "metadata": {
        "id": "Glc31z8Kj2sY"
      },
      "source": [
        "#Problema 3.13 LLUVIAS\r\n",
        "ARNO=0\r\n",
        "ARCE=0\r\n",
        "ARSU=0\r\n",
        "MERSU=500000\r\n",
        "I=1\r\n",
        "while I<12:\r\n",
        "  RNO=int(input(\"Ingrese RNO:\"))\r\n",
        "  RCE=int(input(\"Ingrese RCE:\"))\r\n",
        "  RSU=int(input(\"Ingrese RSU:\"))\r\n",
        "\r\n",
        "  ARNO=ARNO+RNO\r\n",
        "  ARCE=ARCE+RCE\r\n",
        "  ARSU=ARSU+RSU\r\n",
        "\r\n",
        "  if RSU<MERSU:\r\n",
        "    MERSU=RSU\r\n",
        "    MES=1\r\n",
        "  else:\r\n",
        "    I=i+1\r\n",
        "\r\n",
        "  PRORCE=ARCE/12\r\n",
        "  print(\"promedio region:\",PRORCE, \"Mes con menor lluvia region sur:\", MES, \"Registro del mes:\", MERSU,)\r\n",
        "\r\n",
        "  while ARNO>ARCE:\r\n",
        "    if ARNO>ARSU:\r\n",
        "      print(\"La region con mayor lluvia es la norte\")\r\n",
        "    else:\r\n",
        "      print(\"La region con mayor lluvia es ña sur\")\r\n",
        "    I=i+1\r\n",
        "    while ARCE>ARSU:\r\n",
        "        if:\r\n",
        "        print(\"La region con mayor lluvia es el centro\")\r\n",
        "        else:\r\n",
        "        print(\"La region con mayor lluvia  es la sur\")\r\n",
        "        I=i+1\r\n"
      ],
      "execution_count": 654,
      "outputs": []
    },
    {
      "cell_type": "code",
      "metadata": {
        "id": "CxYFiZfupPIe"
      },
      "source": [
        "#Problema 3.14 ESTADIO_PRECIOS\r\n",
        "AP1=0\r\n",
        "AP2=0\r\n",
        "AP3=0\r\n",
        "AP4=0\r\n",
        "AP5=0\r\n",
        "RECAU=0\r\n",
        "P1=float(input(\"Ingrese P1\"))\r\n",
        "P2=float(input(\"Ingrese P2\"))\r\n",
        "P3=float(input(\"Ingrese P3\"))\r\n",
        "P5=float(input(\"Ingrese P5\"))\r\n",
        "P5=float(input(\"Ingrese P5\"))\r\n",
        "\r\n",
        "CLAVE=int(input(\"Ingrese CLAVE\"))\r\n",
        "CANT=int(input(\"Ingrese CANT\"))\r\n",
        "\r\n",
        "while CLAVE>=-1 or CANT>=-1:\r\n",
        "\r\n",
        "   Pl*CANT\r\n",
        "   AP1=AP1 + CANT\r\n",
        "   P2*CANT\r\n",
        "   AP2=AP2 + CANT\r\n",
        "   P3*CANT\r\n",
        "   AP3=AP3 + CANT\r\n",
        "   P4*CANT\r\n",
        "   AP4=AP4 + CANT\r\n",
        "   P5*CANT\r\n",
        "   AP5=AP5 + CANT\r\n",
        "   I=I+1\r\n",
        "   CLAVE=int(input(\"Ingrese CLAVE\"))\r\n",
        "   CANT=int(input(\"Ingrese CANT\"))\r\n",
        "   "
      ],
      "execution_count": 662,
      "outputs": []
    },
    {
      "cell_type": "code",
      "metadata": {
        "id": "lUYzJVvQrwmP"
      },
      "source": [
        "#problema 3.15\r\n",
        "\r\n",
        "CL=0\r\n",
        "CUENTA=0\r\n",
        "\r\n",
        "TIPO=int(input(\"Ingrese TIPO\"))\r\n",
        "CUENTA=int(input(\"Ingrese CUENTA\"))\r\n",
        "while TIPO>=x or DUR>=-1:\r\n",
        "  if DUR>3:\r\n",
        "    COSTO=7.59+((DUR-3)*3.03)\r\n",
        "  else CORTO=7.59\r\n"
      ],
      "execution_count": null,
      "outputs": []
    },
    {
      "cell_type": "code",
      "metadata": {
        "id": "xP4Icdf5szoH"
      },
      "source": [
        "#problema 3.18\r\n",
        "\r\n",
        "MAYPRO=0\r\n",
        "N=int(input(\"Ingrese N\"))\r\n",
        "while N<=1000:\r\n",
        "  I=1:\r\n",
        "  while I<=N:\r\n",
        "    FABRICA=int(input(\"Ingrese FABRICA\"))\r\n",
        "    TOTANU=0\r\n",
        "    J=1"
      ],
      "execution_count": null,
      "outputs": []
    },
    {
      "cell_type": "code",
      "metadata": {
        "id": "b8zae8K4tpsn"
      },
      "source": [
        "#problema 3.19\r\n",
        "\r\n",
        "N=int(input(\"Ingrese N\"))\r\n",
        "I=1\r\n",
        "while I>=1:\r\n",
        "  SUM=0\r\n",
        "  J=1\r\n",
        " "
      ],
      "execution_count": null,
      "outputs": []
    }
  ]
}