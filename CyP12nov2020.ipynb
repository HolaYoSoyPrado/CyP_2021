{
  "nbformat": 4,
  "nbformat_minor": 0,
  "metadata": {
    "colab": {
      "name": "CyP12nov2020",
      "provenance": [],
      "collapsed_sections": [],
      "authorship_tag": "ABX9TyNc8nRtlb36DmzZUrLBKhM9",
      "include_colab_link": true
    },
    "kernelspec": {
      "name": "python3",
      "display_name": "Python 3"
    }
  },
  "cells": [
    {
      "cell_type": "markdown",
      "metadata": {
        "id": "view-in-github",
        "colab_type": "text"
      },
      "source": [
        "<a href=\"https://colab.research.google.com/github/HolaYoSoyPrado/cyp_2021/blob/main/CyP12nov2020.ipynb\" target=\"_parent\"><img src=\"https://colab.research.google.com/assets/colab-badge.svg\" alt=\"Open In Colab\"/></a>"
      ]
    },
    {
      "cell_type": "code",
      "metadata": {
        "id": "kxrwr-wceA2w",
        "outputId": "8318440b-775b-4b86-f9fd-1e159f4593c0",
        "colab": {
          "base_uri": "https://localhost:8080/"
        }
      },
      "source": [
        "#Ejemplo 1\n",
        "numero=int (input(\"Digite un numero\"))\n",
        "if numero >0:\n",
        "  print(\"El numero es positivo\")\n",
        "  print(\"Fin del pragrama\")"
      ],
      "execution_count": null,
      "outputs": [
        {
          "output_type": "stream",
          "text": [
            "Dame un numero5\n",
            "El numero es positivo\n",
            "Fin del pragrama\n"
          ],
          "name": "stdout"
        }
      ]
    },
    {
      "cell_type": "code",
      "metadata": {
        "id": "P3GbpmnLfBKg",
        "outputId": "65f8d251-7d83-446d-f225-f7453ebb7fe4",
        "colab": {
          "base_uri": "https://localhost:8080/"
        }
      },
      "source": [
        "#Ejemplo 2\n",
        "numero=int (input(\"Digite un numero\"))\n",
        "if numero >0:\n",
        "  print(\"El numero es positivo\")\n",
        "else:\n",
        " print(\"El numero es negativo\")\n",
        " print(\"Fin del programa\")"
      ],
      "execution_count": 17,
      "outputs": [
        {
          "output_type": "stream",
          "text": [
            "Digite un numero7\n",
            "El numero es positivo\n"
          ],
          "name": "stdout"
        }
      ]
    },
    {
      "cell_type": "code",
      "metadata": {
        "id": "t6JdDEjNsHCu",
        "outputId": "5a9bdb65-bf32-4572-eb78-a550d807678b",
        "colab": {
          "base_uri": "https://localhost:8080/"
        }
      },
      "source": [
        "#Ejemplo 3\n",
        "numero=int (input(\"Digite un numero\"))\n",
        "if numero >0:\n",
        "  print(\"El numero es positivo\")\n",
        "elif numero==0:\n",
        "  print(\"El numero es 0\")\n",
        "else:#si no imprime negativo\n",
        "  print(\"El numero es negativo\")\n",
        "  \n",
        "  print(\"Fin del programa\")"
      ],
      "execution_count": 19,
      "outputs": [
        {
          "output_type": "stream",
          "text": [
            "Digite un numero-4\n",
            "El numero es negativo\n",
            "Fin del programa\n"
          ],
          "name": "stdout"
        }
      ]
    }
  ]
}