{
  "nbformat": 4,
  "nbformat_minor": 0,
  "metadata": {
    "colab": {
      "name": "3.ipynb",
      "provenance": [],
      "collapsed_sections": [],
      "authorship_tag": "ABX9TyNlKp0k0auM8ufGf54tOdEC",
      "include_colab_link": true
    },
    "kernelspec": {
      "name": "python3",
      "display_name": "Python 3"
    }
  },
  "cells": [
    {
      "cell_type": "markdown",
      "metadata": {
        "id": "view-in-github",
        "colab_type": "text"
      },
      "source": [
        "<a href=\"https://colab.research.google.com/github/HolaYoSoyPrado/cyp_2021/blob/main/3.ipynb\" target=\"_parent\"><img src=\"https://colab.research.google.com/assets/colab-badge.svg\" alt=\"Open In Colab\"/></a>"
      ]
    },
    {
      "cell_type": "code",
      "metadata": {
        "colab": {
          "base_uri": "https://localhost:8080/"
        },
        "id": "wB4mZ5LI1Ykk",
        "outputId": "52b4dcc3-48c0-4023-de43-fadecd267d58"
      },
      "source": [
        "#Problema 1.1 VUELTO_DE_UN_PAGO\n",
        "\n",
        "PREPRO=0\n",
        "PAGO=0\n",
        "DEVO=0\n",
        "\n",
        "PREPRO=float(input(\"Ingrese precio:\"))\n",
        "PAGO=float(input(\"Ingrese pago:\"))\n",
        "\n",
        "DEVO=(PAGO-PREPRO)\n",
        "\n",
        "print(f\"Cambio:{DEVO}\")\n"
      ],
      "execution_count": null,
      "outputs": [
        {
          "output_type": "stream",
          "text": [
            "Ingrese precio:49.20\n",
            "Ingrese pago:100\n",
            "Cambio:50.8\n"
          ],
          "name": "stdout"
        }
      ]
    },
    {
      "cell_type": "code",
      "metadata": {
        "colab": {
          "base_uri": "https://localhost:8080/"
        },
        "id": "hwoNVfM95CnF",
        "outputId": "ad3f2a24-360e-4b60-ab30-28d718e5019e"
      },
      "source": [
        "#Problema 1.2 5UPERFICIE_TRIANGULO\n",
        "\n",
        "BASE=0\n",
        "ALTU=0\n",
        "SUP=0\n",
        "\n",
        "BASE=float(input(\"Ingrese Base:\"))\n",
        "ALTU=float(input(\"Ingrese Altura:\"))\n",
        "\n",
        "SUP=(BASE*ALTU)/2\n",
        "\n",
        "print(f\"Superficie del traingulo:{SUP}\")"
      ],
      "execution_count": null,
      "outputs": [
        {
          "output_type": "stream",
          "text": [
            "Ingrese Base:11.60\n",
            "Ingrese Altura:7.40\n",
            "Superficie del traingulo:42.92\n"
          ],
          "name": "stdout"
        }
      ]
    },
    {
      "cell_type": "code",
      "metadata": {
        "colab": {
          "base_uri": "https://localhost:8080/"
        },
        "id": "G2bZ2uRP6L_u",
        "outputId": "cd4a15d4-cae7-4cf2-9e89-beae5acadc55"
      },
      "source": [
        "#Problema 1.3 DINOSAURIOS\n",
        "\n",
        "NOM=0\n",
        "PES=0\n",
        "LON=0\n",
        "PESKIL=0\n",
        "LONMET=0\n",
        "\n",
        "NOM=input(\"Ingrese Nombre:\")\n",
        "PES=float(input(\"Ingrese Peso:\"))\n",
        "LON=float(input(\"Ingrese Longitud:\"))\n",
        "\n",
        "PESKIL=(PES*1000)\n",
        "LONMET=(LON*0.3047)\n",
        "\n",
        "print(f\"Nombre:{NOM}\")\n",
        "print(f\"Peso en kilogramos:{PESKIL}\")\n",
        "print(f\"Longitud en metros:{LONMET}\")"
      ],
      "execution_count": null,
      "outputs": [
        {
          "output_type": "stream",
          "text": [
            "Ingrese Nombre:TYRANNOSAURUS\n",
            "Ingrese Peso:8\n",
            "Ingrese Longitud:30\n",
            "Nombre:TYRANNOSAURUS\n",
            "Peso en kilogramos:8000.0\n",
            "Longitud en metros:9.141\n"
          ],
          "name": "stdout"
        }
      ]
    },
    {
      "cell_type": "code",
      "metadata": {
        "colab": {
          "base_uri": "https://localhost:8080/"
        },
        "id": "H6G6qpIf-zst",
        "outputId": "96a1993a-5ba4-455a-c8ba-84bf0a6aac18"
      },
      "source": [
        "#Problema 1.4 GAS0LINERA\n",
        "\n",
        "GAL=0\n",
        "TOTAL=0\n",
        "\n",
        "GAL=float(input(\"Ingrese cantidad de galones:\"))\n",
        "TOTAL=(GAL*3.785*8.20)\n",
        "\n",
        "print(f\"Total:{TOTAL}\")"
      ],
      "execution_count": null,
      "outputs": [
        {
          "output_type": "stream",
          "text": [
            "Ingrese cantidad de galones:19.90\n",
            "Total:617.6363\n"
          ],
          "name": "stdout"
        }
      ]
    },
    {
      "cell_type": "code",
      "metadata": {
        "colab": {
          "base_uri": "https://localhost:8080/"
        },
        "id": "OhvwSWfsAZJ1",
        "outputId": "eeb4d31e-a8bf-4d88-d6cf-d88135cbcd78"
      },
      "source": [
        "#Problema 1.5 VOLUMEN_AREA_CILINDRO\n",
        "\n",
        "RADIO=0\n",
        "ALTU=0\n",
        "VOL=0\n",
        "ARE=0\n",
        "\n",
        "RADIO=float(input(\"Ingrese el radio:\"))\n",
        "ALTU=float(input(\"Ingrese la altura:\"))\n",
        "\n",
        "VOL=(3.141592*(RADIO**2))*ALTU\n",
        "ARE=(2*3.141592*RADIO*ALTU)\n",
        "\n",
        "print(f\"El Volumen es:{VOL}\")\n",
        "print(f\"El Area es:{ARE}\")"
      ],
      "execution_count": null,
      "outputs": [
        {
          "output_type": "stream",
          "text": [
            "Ingrese el radio:85.90\n",
            "Ingrese la altura:237.20\n",
            "El Volumen es:5498583.122421345\n",
            "El Area es:128022.88992832\n"
          ],
          "name": "stdout"
        }
      ]
    },
    {
      "cell_type": "code",
      "metadata": {
        "colab": {
          "base_uri": "https://localhost:8080/"
        },
        "id": "Vu4DeXx5INgv",
        "outputId": "4fc7424b-a2ff-4887-b88a-5476bf6d051a"
      },
      "source": [
        "#Problema 1.6 SEGUNDOS_EN_DIAS\n",
        "\n",
        "\n",
        "DIAS=0\n",
        "SEG=0\n",
        "\n",
        "DIAS=int(input(\"Ingrese numero de Dias:\"))\n",
        "SEG=(DIAS*24*60*60)\n",
        "\n",
        "print(f\"En Dias hay:{SEG}\"\"segundos\")"
      ],
      "execution_count": null,
      "outputs": [
        {
          "output_type": "stream",
          "text": [
            "Ingrese numero de Dias:3\n",
            "En Dias hay:259200segundos\n"
          ],
          "name": "stdout"
        }
      ]
    }
  ]
}