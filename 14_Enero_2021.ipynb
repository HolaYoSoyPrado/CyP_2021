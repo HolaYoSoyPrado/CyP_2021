{
  "nbformat": 4,
  "nbformat_minor": 0,
  "metadata": {
    "colab": {
      "name": "14_Enero_2021.ipynb",
      "provenance": [],
      "authorship_tag": "ABX9TyOhFNDnj29VmZhscAxtC1RR",
      "include_colab_link": true
    },
    "kernelspec": {
      "name": "python3",
      "display_name": "Python 3"
    }
  },
  "cells": [
    {
      "cell_type": "markdown",
      "metadata": {
        "id": "view-in-github",
        "colab_type": "text"
      },
      "source": [
        "<a href=\"https://colab.research.google.com/github/HolaYoSoyPrado/cyp_2021/blob/main/14_Enero_2021.ipynb\" target=\"_parent\"><img src=\"https://colab.research.google.com/assets/colab-badge.svg\" alt=\"Open In Colab\"/></a>"
      ]
    },
    {
      "cell_type": "markdown",
      "metadata": {
        "id": "nXFKHtMI5PWP"
      },
      "source": [
        "# Palabras reservadas de Python \r\n",
        "\r\n",
        "False,None,True,and,as,assert,break,class,continue,def,del,elif,else,except,finally,for,from,global,if,import,in,is,lambda,nonlocal,not,or,pass,raise,return,try,while,with,yield,\r\n",
        "\r\n",
        "1. False\r\n",
        "1. None\r\n",
        "1. True\r\n",
        "1. and\r\n",
        "1. as\r\n",
        "1. assert\r\n",
        "1. break\r\n",
        "1. class\r\n",
        "1. continue\r\n",
        "1. def\r\n",
        "1. del\r\n",
        "1. elif\r\n",
        "1. else\r\n",
        "1. except\r\n",
        "1. finally\r\n",
        "1. for\r\n",
        "1. from\r\n",
        "1. global\r\n",
        "1. if\r\n",
        "1. import\r\n",
        "1. in\r\n",
        "1. is\r\n",
        "1. lambda\r\n",
        "1. nonlocal\r\n",
        "1. not\r\n",
        "1. or\r\n",
        "1. pass\r\n",
        "1. raise\r\n",
        "1. return\r\n",
        "1. try\r\n",
        "1. while\r\n",
        "1. with\r\n",
        "1. yield"
      ]
    },
    {
      "cell_type": "code",
      "metadata": {
        "colab": {
          "base_uri": "https://localhost:8080/"
        },
        "id": "lmyovd-j5YCH",
        "outputId": "3852d57b-3e76-47b9-8831-d223c3376f79"
      },
      "source": [
        "import keyword\r\n",
        "pr=keyword.kwlist\r\n",
        "print(len(pr))\r\n",
        "for palabra in pr:\r\n",
        "  print(\"1.\",palabra)"
      ],
      "execution_count": 3,
      "outputs": [
        {
          "output_type": "stream",
          "text": [
            "33\n",
            "1. False\n",
            "1. None\n",
            "1. True\n",
            "1. and\n",
            "1. as\n",
            "1. assert\n",
            "1. break\n",
            "1. class\n",
            "1. continue\n",
            "1. def\n",
            "1. del\n",
            "1. elif\n",
            "1. else\n",
            "1. except\n",
            "1. finally\n",
            "1. for\n",
            "1. from\n",
            "1. global\n",
            "1. if\n",
            "1. import\n",
            "1. in\n",
            "1. is\n",
            "1. lambda\n",
            "1. nonlocal\n",
            "1. not\n",
            "1. or\n",
            "1. pass\n",
            "1. raise\n",
            "1. return\n",
            "1. try\n",
            "1. while\n",
            "1. with\n",
            "1. yield\n"
          ],
          "name": "stdout"
        }
      ]
    },
    {
      "cell_type": "markdown",
      "metadata": {
        "id": "5Ob7W7FE68SZ"
      },
      "source": [
        "## Variable\r\n",
        "Es un espacio de memoria de la computadora para almacenar valores que cambian a lo largo de la ejecucion del programa. Este espacio de memoria esta rederenciado por un identificador, el cual tiene ciertas reglas de nombrado.\r\n",
        "\r\n",
        "- No puede iniciar con numero \r\n",
        "- No deberia ser igual a alguna de las palabras reservadas.\r\n",
        "- Evitar nombres de variables largos \r\n",
        "- Evitar muy cortos, ejemplos : x, y , i\r\n",
        "- Usar notacion snake_case"
      ]
    },
    {
      "cell_type": "code",
      "metadata": {
        "colab": {
          "base_uri": "https://localhost:8080/",
          "height": 69
        },
        "id": "Yt9-4Xs17wYH",
        "outputId": "52c517a2-035a-45e3-99d6-35c3e5b91b92"
      },
      "source": [
        "_2edad=12\r\n",
        "print(_2edad)\r\n",
        "\"\"\"\r\n",
        "No se puede usar un palabra reservada como identificador de variable:\r\n",
        "for=12\r\n",
        "print(for)\r\n",
        "\"\"\""
      ],
      "execution_count": 13,
      "outputs": [
        {
          "output_type": "stream",
          "text": [
            "12\n"
          ],
          "name": "stdout"
        },
        {
          "output_type": "execute_result",
          "data": {
            "application/vnd.google.colaboratory.intrinsic+json": {
              "type": "string"
            },
            "text/plain": [
              "'\\nNo se puede usar un palabra reservada como identificador de variable:\\nfor=12\\nprint(for)\\n'"
            ]
          },
          "metadata": {
            "tags": []
          },
          "execution_count": 13
        }
      ]
    },
    {
      "cell_type": "code",
      "metadata": {
        "id": "Oa-BYhg98vqf"
      },
      "source": [
        "\"\"\"\r\n",
        "La notacion snake case consta de formar el identificador de variable \r\n",
        "Separando las palabras del mismo con un guion bajo.\r\n",
        "\r\n",
        "Se recomienda que los idemtificadores se escriban en minusculas para las varibles\r\n",
        " y en mayusculas para las constantes\r\n",
        "\r\n",
        "Es decir si tenemos una variable para los dias de la semana, se escribiria \r\n",
        "\r\n",
        "#dias_de_la_semana=7\r\n",
        "#dis_mes=31\r\n",
        "#limite_maximo=100\r\n",
        "\r\n",
        "\"\"\""
      ],
      "execution_count": null,
      "outputs": []
    },
    {
      "cell_type": "markdown",
      "metadata": {
        "id": "_8pLqmvh-HfP"
      },
      "source": [
        "# Tipos de datos \r\n",
        "- Numericos\r\n",
        "    - int 4 bytes (1,2,23454, etc)\r\n",
        "    - float 4 bytes (1.14, 3.1416, 1.0)\r\n",
        "    - long 8 bytes (1, 2, 2.3454, etc)\r\n",
        "    - complex 3+2j (Raices negativas)\r\n",
        "- Boolean: True o False\r\n",
        "- String cadenas de caracteres (\"cad\", cad o \"\"cad\"\")\r\n",
        "- listas ( [1,2,3,4], [a,b,1,2,3])\r\n",
        "- tuples ((edad,23),(4,3))\r\n",
        "- conjuntos\r\n",
        "- dicionarios ( {\"nombres\":\"Juan\"})"
      ]
    },
    {
      "cell_type": "markdown",
      "metadata": {
        "id": "X7Meb2-EEKTu"
      },
      "source": [
        "# Tipo de dato string\r\n",
        "\r\n",
        "Este tipo de dato pemrite almacenar cadenas de caracteres, como por ejemplo:\r\n",
        "\r\n",
        "nombre = 'Jesús'\r\n",
        "lugar_nacimiento = \"Mexico D.F., Tacuba\"\r\n",
        "frase_favorita =\"\"\" \r\n",
        "El conocimiento\r\n",
        "me persigue,\r\n",
        "pero...\r\n",
        "yo soy más rápido!!!\r\n",
        ":)\r\n",
        "\"\"\"\r\n"
      ]
    },
    {
      "cell_type": "code",
      "metadata": {
        "colab": {
          "base_uri": "https://localhost:8080/"
        },
        "id": "ZibAODLOFLWb",
        "outputId": "a0ed08b6-3c4b-46b5-a4ec-dafec7efb518"
      },
      "source": [
        "nombre = 'Jesús'\r\n",
        "lugar_nacimiento = \"Mexico D.F., Tacuba\"\r\n",
        "frase_favorita =\"\"\" \r\n",
        "El conocimiento\r\n",
        "me persigue,\r\n",
        "pero...\r\n",
        "yo soy más rápido!!!\r\n",
        ":)\r\n",
        "\"\"\"\r\n",
        "\r\n",
        "print(nombre)\r\n",
        "print(lugar_nacimiento)\r\n",
        "print(frase_favorita)"
      ],
      "execution_count": 14,
      "outputs": [
        {
          "output_type": "stream",
          "text": [
            "Jesús\n",
            "Mexico D.F., Tacuba\n",
            " \n",
            "El conocimiento\n",
            "me persigue,\n",
            "pero...\n",
            "yo soy más rápido!!!\n",
            ":)\n",
            "\n"
          ],
          "name": "stdout"
        }
      ]
    },
    {
      "cell_type": "markdown",
      "metadata": {
        "id": "Ng8_KwB_Fqs-"
      },
      "source": [
        "# String, como arreglo\r\n",
        "Un string en python es almacenado \r\n",
        "como el tipo de dato (estructura \r\n",
        "de datos ) arreglo\r\n",
        "\r\n",
        "por ejemplo la declaracion\r\n",
        "```\r\n",
        "\r\n",
        "nombre= 'jesus'\r\n",
        "\r\n",
        "El elemento 'J' es almacenado en un arreglo en la posicion o.\r\n",
        "\r\n",
        "La 'e' en la 1 y asi sucesivamente.\r\n",
        "\r\n",
        "### Selector\r\n",
        "La notacion para seleccionar un elemento de arreglo es:\r\n",
        "\r\n",
        "```\r\n",
        "Deonde el valor interno debe se un valor numerico.\r\n",
        "```\r\n"
      ]
    },
    {
      "cell_type": "code",
      "metadata": {
        "colab": {
          "base_uri": "https://localhost:8080/"
        },
        "id": "WmaHHsT4GPB_",
        "outputId": "486be759-3374-441c-b908-db7d1f95bf43"
      },
      "source": [
        "nombre= 'Jesus'\r\n",
        "print(nombre)\r\n",
        "print(nombre[0])\r\n",
        "print(nombre[3])"
      ],
      "execution_count": 15,
      "outputs": [
        {
          "output_type": "stream",
          "text": [
            "Jesus\n",
            "J\n",
            "u\n"
          ],
          "name": "stdout"
        }
      ]
    },
    {
      "cell_type": "markdown",
      "metadata": {
        "id": "aFZTUrRfHnJ7"
      },
      "source": [
        "# Iterar sobre un string\r\n",
        "\r\n",
        "Se puede iterar sobre un string con un for de la forma:\r\n",
        "\r\n",
        "```\r\n",
        "for letra in range (len{nombre}):\r\n",
        "print(letra)\r\n",
        "```\r\n"
      ]
    },
    {
      "cell_type": "code",
      "metadata": {
        "colab": {
          "base_uri": "https://localhost:8080/"
        },
        "id": "FQ-QJltlIkTw",
        "outputId": "e68b7c10-a348-4f36-910d-0697635b5caa"
      },
      "source": [
        "for indice in range (len(nombre)):#0,1,2,3,4\r\n",
        "  print(indice , end =\" \")\r\n",
        "  print(nombre[indice])"
      ],
      "execution_count": 19,
      "outputs": [
        {
          "output_type": "stream",
          "text": [
            "0 J\n",
            "1 e\n",
            "2 s\n",
            "3 u\n",
            "4 s\n"
          ],
          "name": "stdout"
        }
      ]
    },
    {
      "cell_type": "markdown",
      "metadata": {
        "id": "tLBVDf4VJ_vY"
      },
      "source": [
        "# Funcion range (inicio stop, incremento)\r\n",
        "\r\n",
        "\r\n",
        "El inicio es opcional y por defecto tiene el valor 0.\r\n",
        "\r\n",
        "El incremento tambien es opcional y por defecto es 1.\r\n"
      ]
    },
    {
      "cell_type": "code",
      "metadata": {
        "colab": {
          "base_uri": "https://localhost:8080/"
        },
        "id": "Qu_TdvYeKTu2",
        "outputId": "9781b2cb-a646-40ae-9dd7-d0eb5a69f9c8"
      },
      "source": [
        "for indice in range (0, len(nombre), 1):\r\n",
        "  print(nombre[indice])"
      ],
      "execution_count": 27,
      "outputs": [
        {
          "output_type": "stream",
          "text": [
            "J\n",
            "e\n",
            "s\n",
            "u\n",
            "s\n"
          ],
          "name": "stdout"
        }
      ]
    },
    {
      "cell_type": "code",
      "metadata": {
        "colab": {
          "base_uri": "https://localhost:8080/"
        },
        "id": "r2mcWTl5LSVG",
        "outputId": "18c26b63-79bc-4a6b-9896-0e35e111366c"
      },
      "source": [
        "for indice in range (4,-1,-1):#1,3,2,1,0\r\n",
        "  print(nombre[indice])"
      ],
      "execution_count": 33,
      "outputs": [
        {
          "output_type": "stream",
          "text": [
            "s\n",
            "u\n",
            "s\n",
            "e\n",
            "J\n"
          ],
          "name": "stdout"
        }
      ]
    },
    {
      "cell_type": "markdown",
      "metadata": {
        "id": "6WZmsOyzMQVw"
      },
      "source": [
        "# String e indexado negativo\r\n",
        "En Python 3 se agrega una nueva caracteristica a los areglos de la cadenas de carcteres, esta consta de la capacidad de indexar de forma negativa.\r\n",
        "\r\n",
        "La logica es la siguiente.\r\n",
        "\r\n",
        "El ultimo elemnto se le considera como indice (ALTERNATIVO) -1, con lo cual se podria referenciar el final de la cadena sin la nececidad de saber el tamaño de la misma.\r\n",
        "\r\n",
        "```\r\n",
        "nombre = 'Jesus'\r\n",
        "\r\n",
        "indice normal 0 1 2 3 4\r\n",
        "              J E S U S\r\n",
        "\r\n",
        "indice alter. -5 -4 -3 -2 -1\r\n",
        "```"
      ]
    },
    {
      "cell_type": "code",
      "metadata": {
        "colab": {
          "base_uri": "https://localhost:8080/"
        },
        "id": "vm-X35k0NeKX",
        "outputId": "dd638cec-5d99-4f78-9305-7b55c844e23e"
      },
      "source": [
        "nombre= \"Jesus\"\r\n",
        "print(nombre[4])\r\n",
        "print(nombre[-1]) \r\n",
        "print(\"\")\r\n",
        "for indice_alter in range(-1,-6,-1):\r\n",
        "  print(nombre[indice_alter])"
      ],
      "execution_count": 40,
      "outputs": [
        {
          "output_type": "stream",
          "text": [
            "s\n",
            "s\n",
            "\n",
            "s\n",
            "u\n",
            "s\n",
            "e\n",
            "J\n"
          ],
          "name": "stdout"
        }
      ]
    },
    {
      "cell_type": "markdown",
      "metadata": {
        "id": "HtxjT1DAP2Bm"
      },
      "source": [
        "# Slicing de cadenas de caracteres\r\n",
        "\r\n",
        "Esta caracteristica permite scar secciones de una cadena con la siguiente sintaxis\r\n",
        "\r\n",
        "```\r\n",
        "[inicion: stop: incremento]\r\n",
        "\r\n",
        "```\r\n",
        "Donde inicio e incremento son opcionales y tambien soportan indexado alternativo(negativos)"
      ]
    },
    {
      "cell_type": "code",
      "metadata": {
        "colab": {
          "base_uri": "https://localhost:8080/"
        },
        "id": "z1rz5Z9VQb8V",
        "outputId": "a498caac-2bf1-454d-88ab-34ae0e202ba0"
      },
      "source": [
        "facultad = \"Facultad de estudios superiores Aragon(La mejor)\"\r\n",
        "print(facultad)\r\n",
        "for indice  in range(12,20,1):\r\n",
        "  print(facultad[indice], end =\"\")\r\n",
        "\r\n",
        "# Hacer esto mismo con la carcteristica Slicing se logra asi:\r\n",
        "print(\"\\nCon Slicing\")\r\n",
        "print(facultad[12:20:1])\r\n",
        "# La palabra `de` con slicing\r\n",
        "print(facultad[9:11:1])\r\n",
        "#la frese `(La mejor )` con indexado alternativo y slicing"
      ],
      "execution_count": 46,
      "outputs": [
        {
          "output_type": "stream",
          "text": [
            "Facultad de estudios superiores Aragon(La mejor)\n",
            "estudios\n",
            "Con Slicing\n",
            "estudios\n",
            "de\n"
          ],
          "name": "stdout"
        }
      ]
    }
  ]
}