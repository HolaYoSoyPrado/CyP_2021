{
  "nbformat": 4,
  "nbformat_minor": 0,
  "metadata": {
    "colab": {
      "name": "CalificacionFinal.ipynb",
      "provenance": [],
      "authorship_tag": "ABX9TyPVvhayM5oIoUeunscIIRQ/",
      "include_colab_link": true
    },
    "kernelspec": {
      "name": "python3",
      "display_name": "Python 3"
    }
  },
  "cells": [
    {
      "cell_type": "markdown",
      "metadata": {
        "id": "view-in-github",
        "colab_type": "text"
      },
      "source": [
        "<a href=\"https://colab.research.google.com/github/HolaYoSoyPrado/cyp_2021/blob/main/CalificacionFinal.ipynb\" target=\"_parent\"><img src=\"https://colab.research.google.com/assets/colab-badge.svg\" alt=\"Open In Colab\"/></a>"
      ]
    },
    {
      "cell_type": "code",
      "metadata": {
        "colab": {
          "base_uri": "https://localhost:8080/"
        },
        "id": "xQM6TL9DDOw7",
        "outputId": "2ca7f166-304a-4c30-d30d-9fc8499c20ae"
      },
      "source": [
        "# Calificacion final\r\n",
        "CalFinal=int(input(\"Ingrese la calificacion final:\"))\r\n",
        "print(\"Calificacion Final:\",CalFinal)\r\n",
        "if CalFinal>=8:\r\n",
        "  print(f\"Aprobado\")\r\n",
        "else:\r\n",
        "  print(f\"Reprobado\")"
      ],
      "execution_count": 9,
      "outputs": [
        {
          "output_type": "stream",
          "text": [
            "Ingrese la calificacion final:8\n",
            "Calificacion Final: 8\n",
            "Aprobado\n"
          ],
          "name": "stdout"
        }
      ]
    }
  ]
}