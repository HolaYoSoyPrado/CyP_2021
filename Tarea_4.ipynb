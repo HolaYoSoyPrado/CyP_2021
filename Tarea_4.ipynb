{
  "nbformat": 4,
  "nbformat_minor": 0,
  "metadata": {
    "colab": {
      "name": "Tarea_4.ipynb",
      "provenance": [],
      "authorship_tag": "ABX9TyPZjecSrM4NyGiA8HrRSYvn",
      "include_colab_link": true
    },
    "kernelspec": {
      "name": "python3",
      "display_name": "Python 3"
    }
  },
  "cells": [
    {
      "cell_type": "markdown",
      "metadata": {
        "id": "view-in-github",
        "colab_type": "text"
      },
      "source": [
        "<a href=\"https://colab.research.google.com/github/HolaYoSoyPrado/cyp_2021/blob/main/Tarea_4.ipynb\" target=\"_parent\"><img src=\"https://colab.research.google.com/assets/colab-badge.svg\" alt=\"Open In Colab\"/></a>"
      ]
    },
    {
      "cell_type": "code",
      "metadata": {
        "colab": {
          "base_uri": "https://localhost:8080/"
        },
        "id": "-A_6cStXX_Oa",
        "outputId": "a6df2497-552b-4125-8d0b-5106e37649fd"
      },
      "source": [
        "#Ejercicio 2.4 AUMENTO_SELECTIVA_DOBLE\n",
        "\n",
        "print(\"Ingrese el nombre del trabajador:\")\n",
        "nombre=str (input())\n",
        "\n",
        "print(\"Ingrese el sueldo del trabajador\",nombre,\":\" )\n",
        "Sueldo=float (input())\n",
        "\n",
        "#Evaluar Aumento de sueldo\n",
        "\n",
        "if (Sueldo<1000):\n",
        "  NSueldo1=Sueldo*1.15\n",
        "  print(nombre,\"Su sueldo es de $\",NSueldo1)\n",
        "\n",
        "else:\n",
        "  Sueldo>=1000\n",
        "  NSueldo2=Sueldo*1.12\n",
        "  print(nombre,\"Su sueldo es de $\",NSueldo2)\n",
        "  \n"
      ],
      "execution_count": null,
      "outputs": [
        {
          "output_type": "stream",
          "text": [
            "Ingrese el nombre del trabajador:\n",
            "Juan\n",
            "Ingrese el sueldo del trabajador Juan :\n",
            "1000\n",
            "Juan Su sueldo es de $ 1120.0\n"
          ],
          "name": "stdout"
        }
      ]
    },
    {
      "cell_type": "code",
      "metadata": {
        "colab": {
          "base_uri": "https://localhost:8080/"
        },
        "id": "zDHJhEO_om_1",
        "outputId": "cffff9c8-d6f7-489a-ffc8-c8555b847605"
      },
      "source": [
        "#Ejercicio 2.8 AUMENTO_SELECTIVA_MULTIPLE\n",
        "\n",
        "CATE=int(input(\"Ingrese la categoria:\"\"\\n\"))\n",
        "SUE=float(input(\"Ingrese el sueldo:\"\"\\n\"))\n",
        "\n",
        "if (CATE == 1):\n",
        "  NSueldo1=SUE*1.15\n",
        "  print(\"Categoria:\",CATE,\"\\n\" \"El sueldo final del tabajador es:\" \"\\n\" \"$\",NSueldo1)\n",
        "\n",
        "elif (CATE == 2):\n",
        "  NSueldo2=SUE*1.10\n",
        "  print(\"Categoria:\",CATE,\"\\n\" \"El sueldo final del tabajador es:\" \"\\n\" \"$\",NSueldo2)\n",
        "\n",
        "elif (CATE == 3):\n",
        "  NSueldo3=SUE*1.08\n",
        "  print(\"Categoria:\",CATE,\"\\n\" \"El sueldo final del tabajador es:\" \"\\n\" \"$\",NSueldo3)\n",
        "\n",
        "else: \n",
        "  CATE == 4\n",
        "  NSueldo4=SUE*1.07\n",
        "  print(\"Categoria:\",CATE,\"\\n\" \"El sueldo final del tabajador es:\" \"\\n\" \"$\",NSueldo4)"
      ],
      "execution_count": null,
      "outputs": [
        {
          "output_type": "stream",
          "text": [
            "Ingrese la categoria:\n",
            "3\n",
            "Ingrese el sueldo:\n",
            "4100\n",
            "Categoria: 3 \n",
            "El sueldo final del tabajador es:\n",
            "$ 4428.0\n"
          ],
          "name": "stdout"
        }
      ]
    }
  ]
}