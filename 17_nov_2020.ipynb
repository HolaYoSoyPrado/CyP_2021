{
  "nbformat": 4,
  "nbformat_minor": 0,
  "metadata": {
    "colab": {
      "name": "17_nov_2020.ipynb",
      "provenance": [],
      "authorship_tag": "ABX9TyPeb5T+nkN9pidUxriJE9uf",
      "include_colab_link": true
    },
    "kernelspec": {
      "name": "python3",
      "display_name": "Python 3"
    }
  },
  "cells": [
    {
      "cell_type": "markdown",
      "metadata": {
        "id": "view-in-github",
        "colab_type": "text"
      },
      "source": [
        "<a href=\"https://colab.research.google.com/github/HolaYoSoyPrado/cyp_2021/blob/main/17_nov_2020.ipynb\" target=\"_parent\"><img src=\"https://colab.research.google.com/assets/colab-badge.svg\" alt=\"Open In Colab\"/></a>"
      ]
    },
    {
      "cell_type": "code",
      "metadata": {
        "colab": {
          "base_uri": "https://localhost:8080/"
        },
        "id": "B8D4UA31SB1K",
        "outputId": "975effb4-8f8d-49a8-ebc1-5b8da6bf4a80"
      },
      "source": [
        "edad=15\n",
        "estatura=1.67\n",
        "a=10\n",
        "b=3\n",
        "\n",
        "c=2**b+2+3+4\n",
        "\n",
        "print(c)\n",
        "\n",
        "e=estatura*2.0\n",
        "print(e)\n",
        "\n",
        "f=a/b#en python se hace el calculo exacto\n",
        "print(f)#3.3333\n",
        "\n",
        "#Tambien podemos forzar al calculo de enteros\n",
        "\n",
        "g=a//b\n",
        "print(\"g=\",g)\n",
        "\n",
        "h=a%b\n",
        "print(\"h=\",h)\n",
        "\n",
        "num=11\n",
        "print(\"Es par num?\",(num%2)==0)"
      ],
      "execution_count": 12,
      "outputs": [
        {
          "output_type": "stream",
          "text": [
            "17\n",
            "3.34\n",
            "3.3333333333333335\n",
            "g= 3\n",
            "h= 1\n",
            "Es par num? False\n"
          ],
          "name": "stdout"
        }
      ]
    },
    {
      "cell_type": "code",
      "metadata": {
        "colab": {
          "base_uri": "https://localhost:8080/"
        },
        "id": "VWZcXA6XW4Z7",
        "outputId": "8ead552c-dd35-4e07-d9f0-413fd62bafeb"
      },
      "source": [
        "ecuacion=9+7*8-36/5 #9+56-7.2 ->65-7.2\n",
        "print(ecuacion)\n",
        "\n",
        "ecuacion=(9+7)*8-36/5 #128-7.2\n",
        "print(ecuacion)\n",
        "\n",
        "ecuacion=9+7*(8-36)/5 \n",
        "print(ecuacion)"
      ],
      "execution_count": 15,
      "outputs": [
        {
          "output_type": "stream",
          "text": [
            "57.8\n",
            "120.8\n",
            "-30.200000000000003\n"
          ],
          "name": "stdout"
        }
      ]
    },
    {
      "cell_type": "code",
      "metadata": {
        "colab": {
          "base_uri": "https://localhost:8080/"
        },
        "id": "3kmEZb0pcKsn",
        "outputId": "d1661864-6e57-4540-c92e-7190afbb65ed"
      },
      "source": [
        "# operadores logicos -->True y False\n",
        "valor=(5==4) #true\n",
        "print(valor)"
      ],
      "execution_count": 16,
      "outputs": [
        {
          "output_type": "stream",
          "text": [
            "False\n"
          ],
          "name": "stdout"
        }
      ]
    },
    {
      "cell_type": "code",
      "metadata": {
        "colab": {
          "base_uri": "https://localhost:8080/"
        },
        "id": "yxBWAkIhdOaU",
        "outputId": "f83987cc-a0fe-4359-f7cb-0e77938709d2"
      },
      "source": [
        "# operadores logicos -->True y False\n",
        "x=5\n",
        "y=4\n",
        "\n",
        "valor=(x==y) #son iguales ?? -->Falso\n",
        "print(valor)\n",
        "\n",
        "valor=(x!=y) #son diferentes ?? -->Verdadero\n",
        "print(valor)\n",
        "\n",
        "valor=(x<y)#x es menor que y?? False\n",
        "print(valor)\n",
        "\n",
        "valor=(x>y)#x es mayor que y?? False\n",
        "print(valor)\n",
        "\n",
        "y=5\n",
        "valor=(x<=y)#x es menor o igual que y?? true\n",
        "print(valor)\n",
        "\n",
        "y=5\n",
        "valor=(x>=y)#x es mayor o igual que y?? true\n",
        "print(valor)"
      ],
      "execution_count": 19,
      "outputs": [
        {
          "output_type": "stream",
          "text": [
            "False\n",
            "True\n",
            "False\n",
            "True\n",
            "True\n",
            "True\n"
          ],
          "name": "stdout"
        }
      ]
    },
    {
      "cell_type": "code",
      "metadata": {
        "colab": {
          "base_uri": "https://localhost:8080/"
        },
        "id": "hhaUMRtOfdk2",
        "outputId": "25b281cd-8d37-4771-cd3e-31b1e75eb23f"
      },
      "source": [
        "costo_chetos=7.0\n",
        "tienda_abierta=False\n",
        "capital_en_bolsa=10.0\n",
        "\n",
        "se_compra=(costo_chetos<capital_en_bolsa) and (tienda_abierta==True)\n",
        "print(se_compra)"
      ],
      "execution_count": 20,
      "outputs": [
        {
          "output_type": "stream",
          "text": [
            "False\n"
          ],
          "name": "stdout"
        }
      ]
    }
  ]
}