{
  "nbformat": 4,
  "nbformat_minor": 0,
  "metadata": {
    "colab": {
      "name": "Lista.ipynb",
      "provenance": [],
      "authorship_tag": "ABX9TyNrDBiAM7OQvXv5/IyQA98S",
      "include_colab_link": true
    },
    "kernelspec": {
      "name": "python3",
      "display_name": "Python 3"
    }
  },
  "cells": [
    {
      "cell_type": "markdown",
      "metadata": {
        "id": "view-in-github",
        "colab_type": "text"
      },
      "source": [
        "<a href=\"https://colab.research.google.com/github/HolaYoSoyPrado/cyp_2021/blob/main/Lista.ipynb\" target=\"_parent\"><img src=\"https://colab.research.google.com/assets/colab-badge.svg\" alt=\"Open In Colab\"/></a>"
      ]
    },
    {
      "cell_type": "code",
      "metadata": {
        "colab": {
          "base_uri": "https://localhost:8080/"
        },
        "id": "v10WbgN8KKQx",
        "outputId": "3a981b83-3313-4611-f72b-29ccb8e21947"
      },
      "source": [
        "'''\r\n",
        "Una lista es una estructura de datos.\r\n",
        "En python es un tipo de dato lineal con caracteristicas especiales\r\n",
        "Las listas tambien son conocidas como un arreglo \r\n",
        "de elmentos donde podemos ingresar cualquier dato.\r\n",
        "'''\r\n",
        "lista= [1,2,3,4,5,6,7,8]\r\n",
        "print(lista)\r\n"
      ],
      "execution_count": 3,
      "outputs": [
        {
          "output_type": "stream",
          "text": [
            "[1, 2, 3, 4, 5, 6, 7, 8]\n"
          ],
          "name": "stdout"
        }
      ]
    }
  ]
}