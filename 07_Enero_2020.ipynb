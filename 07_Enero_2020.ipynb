{
  "nbformat": 4,
  "nbformat_minor": 0,
  "metadata": {
    "colab": {
      "name": "07_Enero_2020.ipynb",
      "provenance": [],
      "authorship_tag": "ABX9TyMa6uBtmP/EqkM8l+3DJyLK",
      "include_colab_link": true
    },
    "kernelspec": {
      "name": "python3",
      "display_name": "Python 3"
    }
  },
  "cells": [
    {
      "cell_type": "markdown",
      "metadata": {
        "id": "view-in-github",
        "colab_type": "text"
      },
      "source": [
        "<a href=\"https://colab.research.google.com/github/HolaYoSoyPrado/cyp_2021/blob/main/07_Enero_2020.ipynb\" target=\"_parent\"><img src=\"https://colab.research.google.com/assets/colab-badge.svg\" alt=\"Open In Colab\"/></a>"
      ]
    },
    {
      "cell_type": "code",
      "metadata": {
        "colab": {
          "base_uri": "https://localhost:8080/"
        },
        "id": "HbY4WV-n4qBp",
        "outputId": "12c0c80f-8be0-4080-cfa0-4ee5e0e0b812"
      },
      "source": [
        "REN = 3\r\n",
        "COL =5\r\n",
        "VEC = [ [0 for x in range(COL)] for x in range(REN)]\r\n",
        "print(VEC)\r\n",
        "VEC[1][2]=15\r\n",
        "print(VEC)\r\n",
        "print(\"Automatizzar el recorrido del arreglo\")\r\n",
        "for i in range(REN):\r\n",
        "  for j in range(COL):\r\n",
        "    print(f\"{i},{j}={VEC[i][j]}\")"
      ],
      "execution_count": 12,
      "outputs": [
        {
          "output_type": "stream",
          "text": [
            "[[0, 0, 0, 0, 0], [0, 0, 0, 0, 0], [0, 0, 0, 0, 0]]\n",
            "[[0, 0, 0, 0, 0], [0, 0, 15, 0, 0], [0, 0, 0, 0, 0]]\n",
            "Automatizzar el recorrido del arreglo\n",
            "0,0=0\n",
            "0,1=0\n",
            "0,2=0\n",
            "0,3=0\n",
            "0,4=0\n",
            "1,0=0\n",
            "1,1=0\n",
            "1,2=15\n",
            "1,3=0\n",
            "1,4=0\n",
            "2,0=0\n",
            "2,1=0\n",
            "2,2=0\n",
            "2,3=0\n",
            "2,4=0\n"
          ],
          "name": "stdout"
        }
      ]
    },
    {
      "cell_type": "code",
      "metadata": {
        "colab": {
          "base_uri": "https://localhost:8080/"
        },
        "id": "lQhL9k73FKgY",
        "outputId": "dd73c510-bd76-4f58-ce89-2c0e72e7547c"
      },
      "source": [
        "estados= int (input(\"Cuantos estados son?: \"))\r\n",
        "lluvias_men_est= [ [0 for x in range(12)] for x in range(estados)]\r\n",
        "print(lluvias_men_est)\r\n",
        "for i in range(estados):\r\n",
        "  for j in range(12):\r\n",
        "    mensaje=\"dame el valor del estado\"+ str(i+1) + \"del mes \"+ str(j+1),\":\"\r\n",
        "    aux= int(input(mensaje))\r\n",
        "    lluvias_men_est[i][j]=aux\r\n",
        "\r\n",
        "print(lluvias_men_est)\r\n",
        "\r\n",
        "print(\"promedio de lluvias en los estados\")\r\n",
        "suma=0\r\n",
        "for i in range(estados):\r\n",
        "  suma=0\r\n",
        "  for j in range(12):\r\n",
        "    suma=suma+lluvias_men_est[i][j]\r\n",
        "  print(f\"EL promedio de lluvias en el esta {i+1} es {sum/12}\")\r\n",
        "\r\n"
      ],
      "execution_count": null,
      "outputs": [
        {
          "output_type": "stream",
          "text": [
            "Cuantos estados son?: 2\n",
            "[[0, 0, 0, 0, 0, 0, 0, 0, 0, 0, 0, 0], [0, 0, 0, 0, 0, 0, 0, 0, 0, 0, 0, 0]]\n"
          ],
          "name": "stdout"
        }
      ]
    }
  ]
}