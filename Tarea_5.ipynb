{
  "nbformat": 4,
  "nbformat_minor": 0,
  "metadata": {
    "colab": {
      "name": "Tarea_5.ipynb",
      "provenance": [],
      "authorship_tag": "ABX9TyP8rrdKrwjMXMTwP1Asl+WS",
      "include_colab_link": true
    },
    "kernelspec": {
      "name": "python3",
      "display_name": "Python 3"
    }
  },
  "cells": [
    {
      "cell_type": "markdown",
      "metadata": {
        "id": "view-in-github",
        "colab_type": "text"
      },
      "source": [
        "<a href=\"https://colab.research.google.com/github/HolaYoSoyPrado/cyp_2021/blob/main/Tarea_5.ipynb\" target=\"_parent\"><img src=\"https://colab.research.google.com/assets/colab-badge.svg\" alt=\"Open In Colab\"/></a>"
      ]
    },
    {
      "cell_type": "code",
      "metadata": {
        "colab": {
          "base_uri": "https://localhost:8080/"
        },
        "id": "oHe47mWWwP5v",
        "outputId": "a14f4e8a-78b1-4197-8161-0330422379a9"
      },
      "source": [
        "#Ejercicio 3.1 pagina 109\n",
        "\n",
        "print(\"Sueldo 1:\")\n",
        "SUE1= float (input())\n",
        "print(\"Sueldo 2:\")\n",
        "SUE2= float (input())\n",
        "print(\"Sueldo 3:\")\n",
        "SUE3= float (input())\n",
        "print(\"Sueldo 4:\")\n",
        "SUE4= float (input())\n",
        "print(\"Sueldo 5:\")\n",
        "SUE5= float (input())\n",
        "print(\"Sueldo 6:\")\n",
        "SUE6= float (input())\n",
        "print(\"Sueldo 7:\")\n",
        "SUE7= float (input())\n",
        "print(\"Sueldo 8:\")\n",
        "SUE8= float (input())\n",
        "print(\"Sueldo 9:\")\n",
        "SUE9= float (input())\n",
        "print(\"Sueldo 10:\")\n",
        "SUE10= float (input())\n",
        "\n",
        "Nomina=SUE1+SUE2+SUE3+SUE4+SUE5+SUE6+SUE7+SUE8+SUE9+SUE10\n",
        "print(\"Nomina Total:\",Nomina)"
      ],
      "execution_count": 44,
      "outputs": [
        {
          "output_type": "stream",
          "text": [
            "Sueldo 1:\n",
            "1500\n",
            "Sueldo 2:\n",
            "850\n",
            "Sueldo 3:\n",
            "1900\n",
            "Sueldo 4:\n",
            "1400\n",
            "Sueldo 5:\n",
            "1800\n",
            "Sueldo 6:\n",
            "1750\n",
            "Sueldo 7:\n",
            "1390\n",
            "Sueldo 8:\n",
            "1495\n",
            "Sueldo 9:\n",
            "1894\n",
            "Sueldo 10:\n",
            "1960\n",
            "Nomina Total: 15939.0\n"
          ],
          "name": "stdout"
        }
      ]
    },
    {
      "cell_type": "code",
      "metadata": {
        "colab": {
          "base_uri": "https://localhost:8080/"
        },
        "id": "Ne3UAURyKUrF",
        "outputId": "dea60170-ca27-4a8d-c21b-ee6dec7672a8"
      },
      "source": [
        "#Ejercicio 3.4 (pagina 117)\n",
        "\n",
        "GastoTotal=0\n",
        "Gasto=1.0\n",
        "while Gasto>0.0:\n",
        "  SumGas=float(input(\"Gasto: \"))\n",
        "  GastoTotal+=(SumGas if SumGas > 0.0 else 0.0)\n",
        "  Gasto=SumGas\n",
        "print(f\"Gasto Total: ${GastoTotal}\")"
      ],
      "execution_count": 75,
      "outputs": [
        {
          "output_type": "stream",
          "text": [
            "Gasto: 2528\n",
            "Gasto: 3500\n",
            "Gasto: 1600\n",
            "Gasto: 1850\n",
            "Gasto: 150\n",
            "Gasto: -1\n",
            "Gasto Total: $9628.0\n"
          ],
          "name": "stdout"
        }
      ]
    }
  ]
}