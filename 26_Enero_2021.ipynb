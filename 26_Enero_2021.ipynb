{
  "nbformat": 4,
  "nbformat_minor": 0,
  "metadata": {
    "colab": {
      "name": "26_Enero_2021.ipynb",
      "provenance": [],
      "authorship_tag": "ABX9TyPXbXQFt5jCjP9u7ntCZHBH",
      "include_colab_link": true
    },
    "kernelspec": {
      "name": "python3",
      "display_name": "Python 3"
    }
  },
  "cells": [
    {
      "cell_type": "markdown",
      "metadata": {
        "id": "view-in-github",
        "colab_type": "text"
      },
      "source": [
        "<a href=\"https://colab.research.google.com/github/HolaYoSoyPrado/cyp_2021/blob/main/26_Enero_2021.ipynb\" target=\"_parent\"><img src=\"https://colab.research.google.com/assets/colab-badge.svg\" alt=\"Open In Colab\"/></a>"
      ]
    },
    {
      "cell_type": "markdown",
      "metadata": {
        "id": "J0oOiHGQtG04"
      },
      "source": [
        "# Listas de Python 3\r\n",
        "\r\n",
        "1. Es una estructura de datos lineal de 0 o n elementos.\r\n",
        "2. \"Equivalentes\" a los arreglos\r\n",
        "3. Pueden ser de diferente tipo de dato.\r\n",
        "[1,2,32,12] , [1, true, 2.34, hola]\r\n",
        "4. Pueden ser anidados, listas de listas. [\"Melon\"], [\"Manzana roja\" , Manzana amarrilla]\r\n",
        "5. Su selector es de la forma: [int]\r\n",
        "6. Son mutables.\r\n"
      ]
    },
    {
      "cell_type": "code",
      "metadata": {
        "colab": {
          "base_uri": "https://localhost:8080/"
        },
        "id": "fq-t3ZatvBl_",
        "outputId": "cddbf658-1f56-4503-d75f-3c321441ea69"
      },
      "source": [
        "#ejemplos\r\n",
        "numeros= [4,2,45,7,83,3]\r\n",
        "print(numeros)\r\n",
        "print(numeros[2])\r\n",
        "\r\n",
        "# ina lista de 0 elementos\r\n",
        "colores=[]#list()\r\n",
        "type(colores)#averiguar de que tipo de dato es una variable con la funcion type\r\n",
        "dias=list()\r\n",
        "print(colores)\r\n",
        "print(dias)"
      ],
      "execution_count": 3,
      "outputs": [
        {
          "output_type": "stream",
          "text": [
            "[4, 2, 45, 7, 83, 3]\n",
            "45\n",
            "[]\n",
            "[]\n"
          ],
          "name": "stdout"
        }
      ]
    },
    {
      "cell_type": "code",
      "metadata": {
        "colab": {
          "base_uri": "https://localhost:8080/"
        },
        "id": "0-NXywAQwK9H",
        "outputId": "92f0d422-aa7d-47a6-e658-68f238455426"
      },
      "source": [
        "# Pueden ser de diferente tipo de datos\r\n",
        "\r\n",
        "mi_lista=[1,2,3,\"Jose\",False,1.76,[55234566,44553412632,556677888]]\r\n",
        "print(mi_lista)\r\n",
        "print(mi_lista[5])\r\n",
        "print(mi_lista[6][1])\r\n",
        "print(mi_lista[3][3])\r\n",
        "print(mi_lista[3][3::])\r\n",
        "print(mi_lista[3][-1::1])\r\n",
        "mi_lista=[1,2,3,\"Jose\",False,1.76,[\"55234566,44553412632,556677888\"]]"
      ],
      "execution_count": 20,
      "outputs": [
        {
          "output_type": "stream",
          "text": [
            "[1, 2, 3, 'Jose', False, 1.76, [55234566, 44553412632, 556677888]]\n",
            "1.76\n",
            "44553412632\n",
            "e\n",
            "e\n",
            "e\n"
          ],
          "name": "stdout"
        }
      ]
    },
    {
      "cell_type": "code",
      "metadata": {
        "colab": {
          "base_uri": "https://localhost:8080/"
        },
        "id": "EikHvBeM0ViI",
        "outputId": "2501ed1e-e215-4c93-e853-50ab112e7691"
      },
      "source": [
        "frutas=[\"melon\",\"sandia\",\"kiwi\",\"aguacate\",\"mango\",\"platano\"]\r\n",
        "print(frutas)\r\n",
        "frutas[0]=\"Melon\"\r\n",
        "print(frutas)\r\n",
        "#frutas[1][0]=\"S\"\r\n",
        "#print(frutas)\r\n",
        "frutas[1]=frutas[1].capitalize()\r\n",
        "print(frutas)"
      ],
      "execution_count": 28,
      "outputs": [
        {
          "output_type": "stream",
          "text": [
            "['melon', 'sandia', 'kiwi', 'aguacate', 'mango', 'platano']\n",
            "['Melon', 'sandia', 'kiwi', 'aguacate', 'mango', 'platano']\n",
            "['Melon', 'Sandia', 'kiwi', 'aguacate', 'mango', 'platano']\n"
          ],
          "name": "stdout"
        }
      ]
    },
    {
      "cell_type": "code",
      "metadata": {
        "colab": {
          "base_uri": "https://localhost:8080/"
        },
        "id": "CwEUbRUw2q6u",
        "outputId": "bd43a7e1-4c9f-4410-b89b-9b551cf9f57a"
      },
      "source": [
        "# Las listas son clases por lo tanto tienen metodos.\r\n",
        "# ejemplo: Append, agrega un elemnto al final \r\n",
        "frutas=[\"melon\",\"sandia\",\"kiwi\",\"aguacate\",\"mango\",\"platano\"]\r\n",
        "frutas.append(\"Fresa\")\r\n",
        "print(frutas)\r\n",
        "\r\n",
        "print(\"Ejemplo de copias\")\r\n",
        "otras_frutas=frutas\r\n",
        "print(frutas)\r\n",
        "print(otras_frutas)\r\n",
        "otras_frutas[0]=\"Chico zapote\"\r\n",
        "print(frutas)\r\n",
        "print(\"---------\")\r\n",
        "\r\n",
        "print(\"Ejemplo de extend\")\r\n",
        "colores=(\"rojo\",\"verde\",\"azul\")\r\n",
        "frutas.extend(colores)\r\n",
        "print(frutas)\r\n",
        "\r\n",
        "print(\"Ejemplo insert\")\r\n",
        "print(f\"tamoaño de la lista={len(frutas)}\")\r\n",
        "frutas.insert(3,\"Limon\")\r\n",
        "print(f\"tamoaño de la lista={len(frutas)}\")\r\n",
        "print(frutas)\r\n",
        "\r\n",
        "print(\"Ejemplo remove\")\r\n",
        "frutas.remove(\"kiwi\")\r\n",
        "print(frutas)\r\n",
        "\r\n",
        "print(\"Ejemplo del \")\r\n",
        "del frutas[2] #operador de lista\r\n",
        "print(frutas)\r\n",
        "\r\n",
        "frutas.clear()\r\n",
        "print(frutas)"
      ],
      "execution_count": 46,
      "outputs": [
        {
          "output_type": "stream",
          "text": [
            "['melon', 'sandia', 'kiwi', 'aguacate', 'mango', 'platano', 'Fresa']\n",
            "Ejemplo de copias\n",
            "['melon', 'sandia', 'kiwi', 'aguacate', 'mango', 'platano', 'Fresa']\n",
            "['melon', 'sandia', 'kiwi', 'aguacate', 'mango', 'platano', 'Fresa']\n",
            "['Chico zapote', 'sandia', 'kiwi', 'aguacate', 'mango', 'platano', 'Fresa']\n",
            "---------\n",
            "Ejemplo de extend\n",
            "['Chico zapote', 'sandia', 'kiwi', 'aguacate', 'mango', 'platano', 'Fresa', 'rojo', 'verde', 'azul']\n",
            "Ejemplo insert\n",
            "tamoaño de la lista=10\n",
            "tamoaño de la lista=11\n",
            "['Chico zapote', 'sandia', 'kiwi', 'Limon', 'aguacate', 'mango', 'platano', 'Fresa', 'rojo', 'verde', 'azul']\n",
            "Ejemplo remove\n",
            "['Chico zapote', 'sandia', 'Limon', 'aguacate', 'mango', 'platano', 'Fresa', 'rojo', 'verde', 'azul']\n",
            "Ejemplo del \n",
            "['Chico zapote', 'sandia', 'aguacate', 'mango', 'platano', 'Fresa', 'rojo', 'verde', 'azul']\n",
            "[]\n"
          ],
          "name": "stdout"
        }
      ]
    },
    {
      "cell_type": "code",
      "metadata": {
        "colab": {
          "base_uri": "https://localhost:8080/"
        },
        "id": "M5h5dbwq-2vo",
        "outputId": "e7778b2e-8dcb-4fe0-da4f-dd9149b5aa89"
      },
      "source": [
        "cosas=[\"jose\",True,2,3,4,5,\"pedro\",1.23]\r\n",
        "indice=0\r\n",
        "a_eliminar=[]\r\n",
        "for elemento in cosas:\r\n",
        "  if isinstance(elemento, int):\r\n",
        "    print(\"entero\",elemento)\r\n",
        "    a_eliminar.append(elemento)\r\n",
        "    indice+=1\r\n",
        "print(a_eliminar)\r\n",
        "for indice in a_eliminar:\r\n",
        "  print(indice)\r\n",
        "  cosas.remove(indice)\r\n",
        "print(cosas)"
      ],
      "execution_count": 64,
      "outputs": [
        {
          "output_type": "stream",
          "text": [
            "entero True\n",
            "entero 2\n",
            "entero 3\n",
            "entero 4\n",
            "entero 5\n",
            "[True, 2, 3, 4, 5]\n",
            "True\n",
            "2\n",
            "3\n",
            "4\n",
            "5\n",
            "['jose', 'pedro', 1.23]\n"
          ],
          "name": "stdout"
        }
      ]
    },
    {
      "cell_type": "code",
      "metadata": {
        "colab": {
          "base_uri": "https://localhost:8080/"
        },
        "id": "u5cuaKzy2eBa",
        "outputId": "6161072f-c112-4fff-9723-1adcde180c40"
      },
      "source": [
        "help(frutas)"
      ],
      "execution_count": 31,
      "outputs": [
        {
          "output_type": "stream",
          "text": [
            "Help on list object:\n",
            "\n",
            "class list(object)\n",
            " |  list() -> new empty list\n",
            " |  list(iterable) -> new list initialized from iterable's items\n",
            " |  \n",
            " |  Methods defined here:\n",
            " |  \n",
            " |  __add__(self, value, /)\n",
            " |      Return self+value.\n",
            " |  \n",
            " |  __contains__(self, key, /)\n",
            " |      Return key in self.\n",
            " |  \n",
            " |  __delitem__(self, key, /)\n",
            " |      Delete self[key].\n",
            " |  \n",
            " |  __eq__(self, value, /)\n",
            " |      Return self==value.\n",
            " |  \n",
            " |  __ge__(self, value, /)\n",
            " |      Return self>=value.\n",
            " |  \n",
            " |  __getattribute__(self, name, /)\n",
            " |      Return getattr(self, name).\n",
            " |  \n",
            " |  __getitem__(...)\n",
            " |      x.__getitem__(y) <==> x[y]\n",
            " |  \n",
            " |  __gt__(self, value, /)\n",
            " |      Return self>value.\n",
            " |  \n",
            " |  __iadd__(self, value, /)\n",
            " |      Implement self+=value.\n",
            " |  \n",
            " |  __imul__(self, value, /)\n",
            " |      Implement self*=value.\n",
            " |  \n",
            " |  __init__(self, /, *args, **kwargs)\n",
            " |      Initialize self.  See help(type(self)) for accurate signature.\n",
            " |  \n",
            " |  __iter__(self, /)\n",
            " |      Implement iter(self).\n",
            " |  \n",
            " |  __le__(self, value, /)\n",
            " |      Return self<=value.\n",
            " |  \n",
            " |  __len__(self, /)\n",
            " |      Return len(self).\n",
            " |  \n",
            " |  __lt__(self, value, /)\n",
            " |      Return self<value.\n",
            " |  \n",
            " |  __mul__(self, value, /)\n",
            " |      Return self*value.\n",
            " |  \n",
            " |  __ne__(self, value, /)\n",
            " |      Return self!=value.\n",
            " |  \n",
            " |  __new__(*args, **kwargs) from builtins.type\n",
            " |      Create and return a new object.  See help(type) for accurate signature.\n",
            " |  \n",
            " |  __repr__(self, /)\n",
            " |      Return repr(self).\n",
            " |  \n",
            " |  __reversed__(...)\n",
            " |      L.__reversed__() -- return a reverse iterator over the list\n",
            " |  \n",
            " |  __rmul__(self, value, /)\n",
            " |      Return value*self.\n",
            " |  \n",
            " |  __setitem__(self, key, value, /)\n",
            " |      Set self[key] to value.\n",
            " |  \n",
            " |  __sizeof__(...)\n",
            " |      L.__sizeof__() -- size of L in memory, in bytes\n",
            " |  \n",
            " |  append(...)\n",
            " |      L.append(object) -> None -- append object to end\n",
            " |  \n",
            " |  clear(...)\n",
            " |      L.clear() -> None -- remove all items from L\n",
            " |  \n",
            " |  copy(...)\n",
            " |      L.copy() -> list -- a shallow copy of L\n",
            " |  \n",
            " |  count(...)\n",
            " |      L.count(value) -> integer -- return number of occurrences of value\n",
            " |  \n",
            " |  extend(...)\n",
            " |      L.extend(iterable) -> None -- extend list by appending elements from the iterable\n",
            " |  \n",
            " |  index(...)\n",
            " |      L.index(value, [start, [stop]]) -> integer -- return first index of value.\n",
            " |      Raises ValueError if the value is not present.\n",
            " |  \n",
            " |  insert(...)\n",
            " |      L.insert(index, object) -- insert object before index\n",
            " |  \n",
            " |  pop(...)\n",
            " |      L.pop([index]) -> item -- remove and return item at index (default last).\n",
            " |      Raises IndexError if list is empty or index is out of range.\n",
            " |  \n",
            " |  remove(...)\n",
            " |      L.remove(value) -> None -- remove first occurrence of value.\n",
            " |      Raises ValueError if the value is not present.\n",
            " |  \n",
            " |  reverse(...)\n",
            " |      L.reverse() -- reverse *IN PLACE*\n",
            " |  \n",
            " |  sort(...)\n",
            " |      L.sort(key=None, reverse=False) -> None -- stable sort *IN PLACE*\n",
            " |  \n",
            " |  ----------------------------------------------------------------------\n",
            " |  Data and other attributes defined here:\n",
            " |  \n",
            " |  __hash__ = None\n",
            "\n"
          ],
          "name": "stdout"
        }
      ]
    },
    {
      "cell_type": "code",
      "metadata": {
        "colab": {
          "base_uri": "https://localhost:8080/"
        },
        "id": "NEffLcWpFKAr",
        "outputId": "b2f34be9-8e18-48c5-80cd-cf21a2df7e77"
      },
      "source": [
        "# slicing sobre lista\r\n",
        "frutas=[\"melon\",\"sandia\",\"kiwi\",\"aguacate\",\"mango\",\"platano\"]\r\n",
        "\r\n",
        "print(frutas[1:4:])\r\n",
        "\r\n",
        "sistemas_operativos= [\"Windows\",\"Mac os\", \"Linux\", \"Android\",]\r\n",
        "autos=[\"Ford\", \"mazda\", \"honda\"]\r\n",
        "cosas= [sistemas_operativos, autos]\r\n",
        "print(cosas)\r\n",
        "print(cosas[1])\r\n",
        "print(cosas[0][2])\r\n",
        "print(cosas[0][3][2:5:1])\r\n",
        "print(cosas[1][1][4:1:-1])"
      ],
      "execution_count": 75,
      "outputs": [
        {
          "output_type": "stream",
          "text": [
            "['sandia', 'kiwi', 'aguacate']\n",
            "[['Windows', 'Mac os', 'Linux', 'Android'], ['Ford', 'mazda', 'honda']]\n",
            "['Ford', 'mazda', 'honda']\n",
            "Linux\n",
            "dro\n",
            "adz\n"
          ],
          "name": "stdout"
        }
      ]
    }
  ]
}