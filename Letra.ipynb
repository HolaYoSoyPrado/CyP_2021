{
  "nbformat": 4,
  "nbformat_minor": 0,
  "metadata": {
    "colab": {
      "name": "Letra.ipynb",
      "provenance": [],
      "authorship_tag": "ABX9TyO11Xwil7vFlrLC34ZL/6YO",
      "include_colab_link": true
    },
    "kernelspec": {
      "name": "python3",
      "display_name": "Python 3"
    }
  },
  "cells": [
    {
      "cell_type": "markdown",
      "metadata": {
        "id": "view-in-github",
        "colab_type": "text"
      },
      "source": [
        "<a href=\"https://colab.research.google.com/github/HolaYoSoyPrado/cyp_2021/blob/main/Letra.ipynb\" target=\"_parent\"><img src=\"https://colab.research.google.com/assets/colab-badge.svg\" alt=\"Open In Colab\"/></a>"
      ]
    },
    {
      "cell_type": "code",
      "metadata": {
        "colab": {
          "base_uri": "https://localhost:8080/"
        },
        "id": "dqDCePhjcMe3",
        "outputId": "8f9fd4fb-ff06-484d-ee4e-ef80ac304124"
      },
      "source": [
        "letra=input(\"Letra:\")\r\n",
        "if len(letra)!=1:\r\n",
        "    print(\"Debe ser sólo una letra\")\r\n",
        "else:\r\n",
        "    if letra==\"a\" or letra==\"e\" or letra==\"i\" or letra==\"o\" or letra==\"u\":\r\n",
        "        print(\"Es vocal\")"
      ],
      "execution_count": 1,
      "outputs": [
        {
          "output_type": "stream",
          "text": [
            "Letra:AB\n",
            "Debe ser sólo una letra\n"
          ],
          "name": "stdout"
        }
      ]
    }
  ]
}