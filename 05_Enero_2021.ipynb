{
  "nbformat": 4,
  "nbformat_minor": 0,
  "metadata": {
    "colab": {
      "name": "05_Enero_2021.ipynb",
      "provenance": [],
      "authorship_tag": "ABX9TyOxmxUUjSW/Ct1y+oCLU8ph",
      "include_colab_link": true
    },
    "kernelspec": {
      "name": "python3",
      "display_name": "Python 3"
    }
  },
  "cells": [
    {
      "cell_type": "markdown",
      "metadata": {
        "id": "view-in-github",
        "colab_type": "text"
      },
      "source": [
        "<a href=\"https://colab.research.google.com/github/HolaYoSoyPrado/cyp_2021/blob/main/05_Enero_2021.ipynb\" target=\"_parent\"><img src=\"https://colab.research.google.com/assets/colab-badge.svg\" alt=\"Open In Colab\"/></a>"
      ]
    },
    {
      "cell_type": "code",
      "metadata": {
        "colab": {
          "base_uri": "https://localhost:8080/"
        },
        "id": "ZaZXM-V_jUTI",
        "outputId": "c95538c6-be73-46c2-ee18-e04971606171"
      },
      "source": [
        "sueldos= [0.0 for x in range(7)]\r\n",
        "print(sueldos)\r\n",
        "sueldos[0]=12.3\r\n",
        "sueldos[1]=44.3\r\n",
        "sueldos[2]=66.3\r\n",
        "sueldos[3]=78.3\r\n",
        "sueldos[4]=16.3\r\n",
        "sueldos[5]=35.3\r\n",
        "sueldos[6]=61.3\r\n",
        "print(sueldos)\r\n",
        "#Como le hacemos para asignarles valor de el 1.0 al 7.0\r\n",
        "#con una estructura for??\r\n",
        "for i in range(7):\r\n",
        "  sueldos[i]=float(input(\"Introduce un sueldo:\"))\r\n",
        "print(sueldos)\r\n",
        "\r\n",
        "for i in range(7):\r\n",
        "  print(f\"El trabajador {int(i)+1} gana$ {sueldo[i]}\")\r\n"
      ],
      "execution_count": null,
      "outputs": [
        {
          "output_type": "stream",
          "text": [
            "[0.0, 0.0, 0.0, 0.0, 0.0, 0.0, 0.0]\n",
            "[12.3, 44.3, 66.3, 78.3, 16.3, 35.3, 61.3]\n",
            "Introduce un sueldo:54545\n",
            "Introduce un sueldo:1235\n",
            "Introduce un sueldo:4523\n",
            "Introduce un sueldo:2365\n",
            "Introduce un sueldo:1254\n",
            "Introduce un sueldo:1236\n",
            "Introduce un sueldo:1523\n",
            "[54545.0, 1235.0, 4523.0, 2365.0, 1254.0, 1236.0, 1523.0]\n"
          ],
          "name": "stdout"
        }
      ]
    },
    {
      "cell_type": "code",
      "metadata": {
        "colab": {
          "base_uri": "https://localhost:8080/"
        },
        "id": "A2Ubv5sKozFX",
        "outputId": "c218614a-04f9-49b0-f897-101ca7bd52cb"
      },
      "source": [
        "#problema 4.1\r\n",
        "MAXIMO=7\r\n",
        "sueldos=[0.0 for x in range(MAXIMO)]\r\n",
        "suma=0.0\r\n",
        "promedio=0.0\r\n",
        "for i in range (7):\r\n",
        "  sueldos[i]=float(input(\"Dame el sueldo:\"))\r\n",
        "\r\n",
        "for i in range(7):\r\n",
        "  print(f\"Trabajador {i+1}, gana: {sueldos[i]}\")\r\n",
        "\r\n",
        "#Calcular promedio\r\n",
        "\r\n",
        "for i in range (MAXIMO):\r\n",
        "  suma=suma+sueldos[i]\r\n",
        "\r\n",
        "promedio=suma/MAXIMO\r\n",
        "\r\n",
        "print(f\"El promedio de sueldo es:{promedio}\" )\r\n",
        "for i in range(7):\r\n",
        "  if sueldos[i]>promedio:\r\n",
        "    print(f\"El trabajdor {i+1} tiene un sueldo mayor al promedio\")\r\n",
        "\r\n"
      ],
      "execution_count": null,
      "outputs": [
        {
          "output_type": "stream",
          "text": [
            "Dame el sueldo:4\n",
            "Dame el sueldo:5\n",
            "Dame el sueldo:4\n",
            "Dame el sueldo:5\n",
            "Dame el sueldo:4\n",
            "Dame el sueldo:5\n",
            "Dame el sueldo:4\n",
            "Trabajador 1, gana: 4.0\n",
            "Trabajador 2, gana: 5.0\n",
            "Trabajador 3, gana: 4.0\n",
            "Trabajador 4, gana: 5.0\n",
            "Trabajador 5, gana: 4.0\n",
            "Trabajador 6, gana: 5.0\n",
            "Trabajador 7, gana: 4.0\n",
            "El promedio de sueldo es:4.428571428571429\n",
            "El trabajdor 2 tiene un sueldo mayor al promedio\n",
            "El trabajdor 4 tiene un sueldo mayor al promedio\n",
            "El trabajdor 6 tiene un sueldo mayor al promedio\n"
          ],
          "name": "stdout"
        }
      ]
    },
    {
      "cell_type": "code",
      "metadata": {
        "colab": {
          "base_uri": "https://localhost:8080/"
        },
        "id": "X5iaIvhSstRp",
        "outputId": "8a73eaab-84ee-4abb-e364-8b6a20e636b1"
      },
      "source": [
        "#hacer un programa que solicite 5 valores enteros positivos\r\n",
        "#una ves capturados, el programa determine\r\n",
        "#1 cual es mayor\r\n",
        "#2 cual es el menor\r\n",
        "#3 cual es el promedio\r\n",
        "Max = 5\r\n",
        "valor =  [0.0 for x in range(Max)]\r\n",
        "sum = 0.0\r\n",
        "prom = 0.0\r\n",
        "M = 0\r\n",
        "m = 100000000\r\n",
        "\r\n",
        "for i in range(Max):\r\n",
        "  valor[i] = int(input(\"Dame un valor entero positivo: \"))\r\n",
        "  if valor[i] > M:\r\n",
        "    M = valor[i]\r\n",
        "  elif valor[i] < m:\r\n",
        "    m = valor[i]\r\n",
        "\r\n",
        "for i in range(Max):\r\n",
        "  sum = sum + valor[i]\r\n",
        "\r\n",
        "prom = sum / Max\r\n",
        "\r\n",
        "print(f\"El numero mayor es {M}\")\r\n",
        "print(f\"El numero menor es {m}\")\r\n",
        "print(f\"El promedio es {prom}\")"
      ],
      "execution_count": null,
      "outputs": [
        {
          "output_type": "stream",
          "text": [
            "Dame un valor entero positivo: 5\n",
            "Dame un valor entero positivo: 7\n",
            "Dame un valor entero positivo: 6\n",
            "Dame un valor entero positivo: 9\n",
            "Dame un valor entero positivo: 2\n",
            "El numero mayor es 9\n",
            "El numero menor es 2\n",
            "El promedio es 5.8\n"
          ],
          "name": "stdout"
        }
      ]
    },
    {
      "cell_type": "code",
      "metadata": {
        "id": "LkbrIzDWxKNm"
      },
      "source": [
        "#problema 4.1\r\n",
        "N=int(input(\"Ingrese el numero de elementos del arreglo:\"))\r\n",
        "VEC=[]\r\n",
        "if 1 <=N and N <=500:\r\n",
        "  VEC=[0 for x in range(N)]\r\n",
        "  print(VEC)\r\n",
        "  for I in range(N):\r\n",
        "    VEC[I]=int(input(\"Ingrese valor\"+str(I+1)+\":\"))\r\n",
        "    print(\"Lista de numeros sin repeticiones\")\r\n",
        "\r\n",
        "    for I in range(N):\r\n",
        "      print(VEC[I])\r\n",
        "      REPET=VEC[I]\r\n",
        "      while I < N and REPET==VEC[I]:\r\n",
        "        \r\n",
        "        I=I+1\r\n",
        "else:\r\n",
        "  print(\"El numero de elemntos del arreglo es incorrecto\")\r\n"
      ],
      "execution_count": null,
      "outputs": []
    }
  ]
}