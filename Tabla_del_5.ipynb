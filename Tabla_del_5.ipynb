{
  "nbformat": 4,
  "nbformat_minor": 0,
  "metadata": {
    "colab": {
      "name": "Tabla_del_5.ipynb",
      "provenance": [],
      "authorship_tag": "ABX9TyMBhZWuuVoqG4Chka1DkM5R",
      "include_colab_link": true
    },
    "kernelspec": {
      "name": "python3",
      "display_name": "Python 3"
    }
  },
  "cells": [
    {
      "cell_type": "markdown",
      "metadata": {
        "id": "view-in-github",
        "colab_type": "text"
      },
      "source": [
        "<a href=\"https://colab.research.google.com/github/HolaYoSoyPrado/cyp_2021/blob/main/Tabla_del_5.ipynb\" target=\"_parent\"><img src=\"https://colab.research.google.com/assets/colab-badge.svg\" alt=\"Open In Colab\"/></a>"
      ]
    },
    {
      "cell_type": "code",
      "metadata": {
        "colab": {
          "base_uri": "https://localhost:8080/"
        },
        "id": "agxNHKJFN2UE",
        "outputId": "09d05798-7d54-4b52-e40a-1a230668662d"
      },
      "source": [
        "for f in range(1,11):\r\n",
        "  multiplicacion = 5 * f \r\n",
        "  print(f'5 x {f} = {multiplicacion}')"
      ],
      "execution_count": 2,
      "outputs": [
        {
          "output_type": "stream",
          "text": [
            "5 x 1 = 5\n",
            "5 x 2 = 10\n",
            "5 x 3 = 15\n",
            "5 x 4 = 20\n",
            "5 x 5 = 25\n",
            "5 x 6 = 30\n",
            "5 x 7 = 35\n",
            "5 x 8 = 40\n",
            "5 x 9 = 45\n",
            "5 x 10 = 50\n"
          ],
          "name": "stdout"
        }
      ]
    }
  ]
}