{
  "nbformat": 4,
  "nbformat_minor": 0,
  "metadata": {
    "colab": {
      "name": "Diccionario.ipynb",
      "provenance": [],
      "authorship_tag": "ABX9TyMsVGTCFHVqLOV2CKTYqbwC",
      "include_colab_link": true
    },
    "kernelspec": {
      "name": "python3",
      "display_name": "Python 3"
    }
  },
  "cells": [
    {
      "cell_type": "markdown",
      "metadata": {
        "id": "view-in-github",
        "colab_type": "text"
      },
      "source": [
        "<a href=\"https://colab.research.google.com/github/HolaYoSoyPrado/cyp_2021/blob/main/Diccionario.ipynb\" target=\"_parent\"><img src=\"https://colab.research.google.com/assets/colab-badge.svg\" alt=\"Open In Colab\"/></a>"
      ]
    },
    {
      "cell_type": "code",
      "metadata": {
        "colab": {
          "base_uri": "https://localhost:8080/"
        },
        "id": "oKaHfWjsZLqu",
        "outputId": "03624748-7379-48ec-f2de-b3155956d7a7"
      },
      "source": [
        "carro1= {'marca':'Volkwagen', \r\n",
        "         'modelo':'vochito', \r\n",
        "         'color': 'azul', \r\n",
        "         'numero de matricula ': 115745, \r\n",
        "         'precio':56000,}\r\n",
        "print(f\"el primer carro es {carro1}\")\r\n",
        "carro2= {'marca':'nissan', \r\n",
        "         'modelo':'tsuru', \r\n",
        "         'color': 'blanco', \r\n",
        "         'numero de matricula ': 178575, \r\n",
        "         'precio':65000,}\r\n",
        "print(f\"el segundo carro es {carro2}\")\r\n",
        "carro3= {'marca':'Toyota', \r\n",
        "         'modelo':'tacoma', \r\n",
        "         'color': 'rojo', \r\n",
        "         'numero de matricula ': 546997, \r\n",
        "         'precio':102000,}\r\n",
        "print(f\"el tercer carro es {carro3}\")\r\n",
        "carro4= {'marca':'tesla', \r\n",
        "         'modelo':'model s', \r\n",
        "         'color': 'negro', \r\n",
        "         'numero de matricula ': 332487, \r\n",
        "         'precio':1200000,}\r\n",
        "print(f\"el cuarto carro es {carro4}\")\r\n",
        "carro5= {'marca':'mazda', \r\n",
        "         'modelo':'mazda 3', \r\n",
        "         'color': 'gris', \r\n",
        "         'numero de matricula ': 318648, \r\n",
        "         'precio':232000,}\r\n",
        "print(f\"el quinto carro es {carro5}\")"
      ],
      "execution_count": 12,
      "outputs": [
        {
          "output_type": "stream",
          "text": [
            "el primer carro es {'marca': 'Volkwagen', 'modelo': 'vochito', 'color': 'azul', 'numero de matricula ': 115745, 'precio': 56000}\n",
            "el segundo carro es {'marca': 'nissan', 'modelo': 'tsuru', 'color': 'blanco', 'numero de matricula ': 178575, 'precio': 65000}\n",
            "el tercer carro es {'marca': 'Toyota', 'modelo': 'tacoma', 'color': 'rojo', 'numero de matricula ': 546997, 'precio': 102000}\n",
            "el cuarto carro es {'marca': 'tesla', 'modelo': 'model s', 'color': 'negro', 'numero de matricula ': 332487, 'precio': 1200000}\n",
            "el quinto carro es {'marca': 'mazda', 'modelo': 'mazda 3', 'color': 'gris', 'numero de matricula ': 318648, 'precio': 232000}\n"
          ],
          "name": "stdout"
        }
      ]
    }
  ]
}