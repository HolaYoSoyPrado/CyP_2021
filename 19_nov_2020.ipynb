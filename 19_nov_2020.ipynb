{
  "nbformat": 4,
  "nbformat_minor": 0,
  "metadata": {
    "colab": {
      "name": "19_nov_2020.ipynb",
      "provenance": [],
      "authorship_tag": "ABX9TyNLODVddegYNe5dcHPmwIIq",
      "include_colab_link": true
    },
    "kernelspec": {
      "name": "python3",
      "display_name": "Python 3"
    }
  },
  "cells": [
    {
      "cell_type": "markdown",
      "metadata": {
        "id": "view-in-github",
        "colab_type": "text"
      },
      "source": [
        "<a href=\"https://colab.research.google.com/github/HolaYoSoyPrado/cyp_2021/blob/main/19_nov_2020.ipynb\" target=\"_parent\"><img src=\"https://colab.research.google.com/assets/colab-badge.svg\" alt=\"Open In Colab\"/></a>"
      ]
    },
    {
      "cell_type": "code",
      "metadata": {
        "colab": {
          "base_uri": "https://localhost:8080/"
        },
        "id": "mf2sx2Hokdvj",
        "outputId": "206d4227-e527-4a6a-b804-3ed57a7b2dc7"
      },
      "source": [
        "#Concepto de asignacion\n",
        "I=0\n",
        "I=I+1\n",
        "I=I+1\n",
        "print(f\"I={I}\")\n",
        "J=5**2/3\n",
        "print(f\"J={J}\")"
      ],
      "execution_count": 5,
      "outputs": [
        {
          "output_type": "stream",
          "text": [
            "I=2\n",
            "J=8.333333333333334\n"
          ],
          "name": "stdout"
        }
      ]
    },
    {
      "cell_type": "code",
      "metadata": {
        "colab": {
          "base_uri": "https://localhost:8080/"
        },
        "id": "-U_BbSiTmwsR",
        "outputId": "fe5da246-cec4-4b4a-c39d-d609e849606f"
      },
      "source": [
        "A=0\n",
        "B=0\n",
        "c=0\n",
        "D=0\n",
        "A=int(input(\"Dame un valor entero\"))\n",
        "B=int(input(\"Dame un valor entero\"))\n",
        "C=int(input(\"Dame un valor entero\"))\n",
        "D=int(input(\"Dame un valor entero\"))\n",
        "\n",
        "print(A)\n",
        "print(B)\n",
        "print(C)\n",
        "print(D)"
      ],
      "execution_count": 6,
      "outputs": [
        {
          "output_type": "stream",
          "text": [
            "Dame un valor entero40\n",
            "Dame un valor entero30\n",
            "Dame un valor entero20\n",
            "Dame un valor entero10\n",
            "40\n",
            "30\n",
            "20\n",
            "10\n"
          ],
          "name": "stdout"
        }
      ]
    },
    {
      "cell_type": "code",
      "metadata": {
        "colab": {
          "base_uri": "https://localhost:8080/"
        },
        "id": "XVs_a4TUpK6E",
        "outputId": "d8271aad-d335-4dfa-9095-7f897973751b"
      },
      "source": [
        "#Ejemplo 1.7\n",
        "A=0\n",
        "B=0\n",
        "RES=0\n",
        "\n",
        "A=int(input(\"Dame un entero:\"))\n",
        "B=int(input(\"Dame otro entero:\"))\n",
        "RES=(A+B)**2/3\n",
        "print(RES)"
      ],
      "execution_count": 14,
      "outputs": [
        {
          "output_type": "stream",
          "text": [
            "Dame un entero:14\n",
            "Dame otro entero:-5\n",
            "27.0\n"
          ],
          "name": "stdout"
        }
      ]
    },
    {
      "cell_type": "code",
      "metadata": {
        "colab": {
          "base_uri": "https://localhost:8080/"
        },
        "id": "nFCrj0hOuTt0",
        "outputId": "07a11da4-f5d4-40f1-dae1-dd69ab751b7d"
      },
      "source": [
        "#Ejemplo 1.8\n",
        "Cal1=0\n",
        "Cal2=0\n",
        "Cal3=0\n",
        "Cal4=0\n",
        "Cal5=0\n",
        "Promedio=0\n",
        "Mat=0\n",
        "\n",
        "Mat=int(input(\"Ingrese Matricula:\"))\n",
        "Cal1=float(input(\"Ingrese Calificacion 1:\"))\n",
        "Cal2=float(input(\"Ingrese Calificacion 2:\"))\n",
        "Cal3=float(input(\"Ingrese Calificacion 3:\"))\n",
        "Cal4=float(input(\"Ingrese Calificacion 4:\"))\n",
        "Cal5=float(input(\"Ingrese Calificacion 5:\"))\n",
        "Promdedio=(Cal1+Cal2+Cal3+Cal4+Cal5)/5\n",
        "print(Mat,Promdedio)\n",
        "\n"
      ],
      "execution_count": 25,
      "outputs": [
        {
          "output_type": "stream",
          "text": [
            "Ingrese Matricula:16500\n",
            "Ingrese Calificacion 1:8\n",
            "Ingrese Calificacion 2:8.5\n",
            "Ingrese Calificacion 3:9\n",
            "Ingrese Calificacion 4:7\n",
            "Ingrese Calificacion 5:6\n",
            "16500 7.7\n"
          ],
          "name": "stdout"
        }
      ]
    },
    {
      "cell_type": "code",
      "metadata": {
        "colab": {
          "base_uri": "https://localhost:8080/"
        },
        "id": "ofs327RZyWJj",
        "outputId": "c0590769-7b64-489e-b8fd-9886ca5ef09f"
      },
      "source": [
        "#Ejemplo 1.9\n",
        "Num=0\n",
        "Num=int(input(\"Ingrese un numero:\"))\n",
        "print(Num**2)\n",
        "print(Num**3)"
      ],
      "execution_count": 31,
      "outputs": [
        {
          "output_type": "stream",
          "text": [
            "Ingrese un numero:5\n",
            "25\n",
            "125\n"
          ],
          "name": "stdout"
        }
      ]
    },
    {
      "cell_type": "code",
      "metadata": {
        "colab": {
          "base_uri": "https://localhost:8080/"
        },
        "id": "t_c_RGrt0aXr",
        "outputId": "6f611e8f-13e3-4770-889a-d56ba1eef089"
      },
      "source": [
        "#Ejemplo 1.10\n",
        "Base=0\n",
        "Altura=0\n",
        "Perimetro=0\n",
        "Superficie=0\n",
        "\n",
        "Base=float(input(\"Ingrese la Base:\"))\n",
        "Altura=float(input(\"Ingrese la altura:\"))\n",
        "\n",
        "Perimetro=2*(Base+Altura)\n",
        "Superficie=Base*Altura\n",
        "\n",
        "print(Superficie)\n",
        "print(Perimetro)"
      ],
      "execution_count": 43,
      "outputs": [
        {
          "output_type": "stream",
          "text": [
            "Ingrese la Base:8.5\n",
            "Ingrese la altura:6.2\n",
            "52.7\n",
            "29.4\n"
          ],
          "name": "stdout"
        }
      ]
    }
  ]
}