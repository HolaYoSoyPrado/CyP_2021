{
  "nbformat": 4,
  "nbformat_minor": 0,
  "metadata": {
    "colab": {
      "name": "12_Enero_2021.ipynb",
      "provenance": [],
      "authorship_tag": "ABX9TyNxQXooBZfFW013eU8xuXU6",
      "include_colab_link": true
    },
    "kernelspec": {
      "name": "python3",
      "display_name": "Python 3"
    }
  },
  "cells": [
    {
      "cell_type": "markdown",
      "metadata": {
        "id": "view-in-github",
        "colab_type": "text"
      },
      "source": [
        "<a href=\"https://colab.research.google.com/github/HolaYoSoyPrado/cyp_2021/blob/main/12_Enero_2021.ipynb\" target=\"_parent\"><img src=\"https://colab.research.google.com/assets/colab-badge.svg\" alt=\"Open In Colab\"/></a>"
      ]
    },
    {
      "cell_type": "markdown",
      "metadata": {
        "id": "yt3C5CK9qNr8"
      },
      "source": [
        "#Introduccion a Python\r\n",
        "- Creado en lo 90°s por Guido Van R.\r\n",
        "- En el 2000 python mejora y tiene nuevas caraccteristicas.\r\n",
        "- En el 2020 deja de ser la version oficial python 2.7 y solo se le dara soporte a python 3 en adelante.**texto en negrita**\r\n",
        "## Caracteristicas de python\r\n",
        "1. Leguaje de proposito general.\r\n",
        "2. Interpretador y no-compilado.\r\n",
        "3. Tipos de datos dinamicos. (numericos,cadena, bool, entre otros).\r\n",
        "4. Multiplataforma.\r\n",
        "5. Lenguaje multi-paradigma. (Imperativa, poo y funcional)\r\n",
        "6. Codigo es estructurado por dentacion.\r\n",
        "\r\n",
        "\"\"\"\r\n",
        "if a > 10:\r\n",
        "    print(\"Hola\")\r\n",
        "print(\"Hola dos\")\r\n",
        "\"\"\"\r\n",
        "\r\n",
        "## Principios Zen de python\r\n",
        "\r\n",
        "##Son las caracteristicas que guian el diseño del lenguaje de programacion python. \r\n"
      ]
    },
    {
      "cell_type": "code",
      "metadata": {
        "colab": {
          "base_uri": "https://localhost:8080/"
        },
        "id": "jsSimuqDuty1",
        "outputId": "cc9b87ef-ec4d-4ada-8ed3-046692a8633a"
      },
      "source": [
        "# Primer programa en Python\r\n",
        "\r\n",
        "nombre= \"Jose\"\r\n",
        "edad=18\r\n",
        "print(\"Hola\",nombre,edad)"
      ],
      "execution_count": 2,
      "outputs": [
        {
          "output_type": "stream",
          "text": [
            "Hola Jose 18\n"
          ],
          "name": "stdout"
        }
      ]
    },
    {
      "cell_type": "markdown",
      "metadata": {
        "id": "LUOeNKZgvrXc"
      },
      "source": [
        "#La funcion print()\r\n",
        "\r\n",
        "Es una de la funciones mas empleadas en programacion y busca enviar datos a la salida estandar (onitor)\r\n",
        "\r\n",
        "### Formas de uso\r\n",
        "1. Con comas\r\n",
        "2. Con signo+\r\n",
        "3. .format()\r\n",
        "4. El operador f\" \"\r\n",
        "\r\n",
        "#### Con comas\r\n",
        "Concatena los argumentos enviados a print y les agrega espacio\r\n",
        "\r\n",
        "##### Con signos+\r\n",
        "Concatena los valores sin espacio y sin hacer conversion de tipos.\r\n",
        "\r\n",
        "#### con la fguncion format()\r\n",
        "permite darle el formato a la salida de la impresion de variables. Emplea la funcion format de el tipo de dato String.\r\n",
        "\"Cadena {} a {} forma{}tear \".format(v1,v2,v3)\r\n",
        "\r\n",
        "Emplea  como coomodines para sustituir valores los signos{}\r\n",
        "\r\n",
        "### con el operador f\"\"\r\n",
        "\r\n",
        "Es una variante de la forma anterior pero emascarando la funcion format().\r\n",
        "\r\n",
        "print(f\"\" ajkja {var1} asd{var2}asd {var3})"
      ]
    },
    {
      "cell_type": "code",
      "metadata": {
        "colab": {
          "base_uri": "https://localhost:8080/"
        },
        "id": "aLQOJ691wdw2",
        "outputId": "489f4c9f-5bd5-4602-bd86-a54a93314ac7"
      },
      "source": [
        "print(\"Hola\",nombre,edad)\r\n",
        "print(\"Hola \" + nombre +\" \"+ str(edad))\r\n",
        "\r\n",
        "#Nombre: Jose, con una edad de: 18 años\r\n",
        "print(\"Nombre\", nombre, \"Con una edad de:\", edad, \"años\" )\r\n",
        "print(\"Nombre: \"+ nombre+ \" Con una edad de: \"+ str(edad)+ \" años\" )\r\n",
        "# con format()\r\n",
        "print(\"Nombre: {0} con una edad de: {1} años.\".format(nombre,edad) )\r\n",
        "# con el operador f\"\"\r\n",
        "print(f\"Nombre: {nombre} con una edad de: {edad} años.\" )"
      ],
      "execution_count": 16,
      "outputs": [
        {
          "output_type": "stream",
          "text": [
            "Hola Jose 18\n",
            "Hola Jose 18\n",
            "Nombre Jose Con una edad de: 18 años\n",
            "Nombre: Jose Con una edad de: 18 años\n",
            "Nombre: Jose con una edad de: 18 años.\n",
            "Nombre: Jose con una edad de: 18 años.\n"
          ],
          "name": "stdout"
        }
      ]
    },
    {
      "cell_type": "markdown",
      "metadata": {
        "id": "efWyYmZU2Oqx"
      },
      "source": [
        "# Funcion print() y los caracteres de escape.\r\n",
        "\r\n",
        "- \\n salto de linea \r\n",
        "- \\t tabulador \r\n",
        "- \\\\ imprimir la diagonal \\\r\n",
        "- \\' y \\\"\r\n",
        "- \\uxxxx\r\n",
        "- \\uxxxxxx"
      ]
    },
    {
      "cell_type": "code",
      "metadata": {
        "colab": {
          "base_uri": "https://localhost:8080/"
        },
        "id": "uAtPYihu2bQg",
        "outputId": "2d92cd29-5a68-46f6-826e-892b4a05331d"
      },
      "source": [
        "print('\"')\r\n",
        "print(\"\\\"\")\r\n",
        "print(\"Nombre: Jose\\n\\tCon una edad \\de: 19 años.\")\r\n",
        "\r\n",
        "#caracter unicode\r\n",
        "\r\n",
        "print(\"Hola \\u2661\")"
      ],
      "execution_count": 24,
      "outputs": [
        {
          "output_type": "stream",
          "text": [
            "\"\n",
            "\"\n",
            "Nombre: Jose\n",
            "\tCon una edad \\de: 19 años.\n",
            "Hola ♡\n"
          ],
          "name": "stdout"
        }
      ]
    },
    {
      "cell_type": "markdown",
      "metadata": {
        "id": "HupOWlBR8TZl"
      },
      "source": [
        "## print y salto de linea en el argumento \r\n",
        "\r\n",
        "print([lista de variables], end=\\n)"
      ]
    },
    {
      "cell_type": "code",
      "metadata": {
        "colab": {
          "base_uri": "https://localhost:8080/"
        },
        "id": "kNK7KA9F8e_j",
        "outputId": "7b61c9f6-aa15-49d4-eed5-09e673aa555e"
      },
      "source": [
        "print(\"Hola \", end=\"\\u13CD\")\r\n",
        "print(\"Mundo \", end=\"++++\")\r\n",
        "print(\"Fin \", end=\"\\n\")"
      ],
      "execution_count": 31,
      "outputs": [
        {
          "output_type": "stream",
          "text": [
            "Hola ᏍMundo ++++Fin \n"
          ],
          "name": "stdout"
        }
      ]
    },
    {
      "cell_type": "markdown",
      "metadata": {
        "id": "CA9VAcup9q1e"
      },
      "source": [
        "# Comentarios en Python.\r\n",
        "Un comentario en programacion, es un texto especial que es ignorado por el enterprete o copilador (segun sea el caso) y es empleado para que el programador documente sus algoritmos.\r\n",
        "\r\n",
        "Existen de dos tipos: De linea simple y de multiple linea\r\n",
        "\r\n",
        "En python-\r\n",
        "- linea simple emple #\r\n",
        "\r\n",
        "- linea multiple\r\n",
        "\r\n",
        "\"\"\"\r\n",
        "Esto es un comentario de linea multiple\r\n",
        "\"\"\""
      ]
    },
    {
      "cell_type": "code",
      "metadata": {
        "colab": {
          "base_uri": "https://localhost:8080/"
        },
        "id": "l_heL1r6-3Br",
        "outputId": "fb562c39-98ed-49fc-9da6-82f5217e74f8"
      },
      "source": [
        "print(\"Hola\")\r\n",
        "##print(\"Hola\")\r\n",
        "#Cualquier cosa\r\n",
        "print(\"Hola\")\r\n",
        "print(\"Hola\")# esta linea imprime hola\r\n",
        "print(\"Hola\")\r\n",
        "print(\"Hola\")\r\n",
        "\r\n",
        "\"\"\"\r\n",
        "esto es \r\n",
        "un comentario de multiple linea.\r\n",
        "ideal para cuando se desea explicar algo  a fondo que requiera mayor detalles\r\n",
        "\r\n",
        "\"\"\"\r\n",
        "print(\"Hola\")\r\n",
        "print(\"Hola\")"
      ],
      "execution_count": 32,
      "outputs": [
        {
          "output_type": "stream",
          "text": [
            "Hola\n",
            "Hola\n",
            "Hola\n",
            "Hola\n",
            "Hola\n",
            "Hola\n",
            "Hola\n"
          ],
          "name": "stdout"
        }
      ]
    }
  ]
}