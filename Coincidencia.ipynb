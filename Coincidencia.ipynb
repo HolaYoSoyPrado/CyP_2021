{
  "nbformat": 4,
  "nbformat_minor": 0,
  "metadata": {
    "colab": {
      "name": "Coincidencia.ipynb",
      "provenance": [],
      "authorship_tag": "ABX9TyMMgTc9Dq47lr08l1ew5RDS",
      "include_colab_link": true
    },
    "kernelspec": {
      "name": "python3",
      "display_name": "Python 3"
    }
  },
  "cells": [
    {
      "cell_type": "markdown",
      "metadata": {
        "id": "view-in-github",
        "colab_type": "text"
      },
      "source": [
        "<a href=\"https://colab.research.google.com/github/HolaYoSoyPrado/cyp_2021/blob/main/Coincidencia.ipynb\" target=\"_parent\"><img src=\"https://colab.research.google.com/assets/colab-badge.svg\" alt=\"Open In Colab\"/></a>"
      ]
    },
    {
      "cell_type": "code",
      "metadata": {
        "colab": {
          "base_uri": "https://localhost:8080/"
        },
        "id": "Si8zbebCO9GQ",
        "outputId": "78231757-5b49-46a7-a48d-6ea2cf9f4cac"
      },
      "source": [
        "nombre1=input(\"Un nombre: \")\r\n",
        "nombre2=input(\"Otro nombre: \")\r\n",
        "posicion_final_nombre1=len(nombre1)-1\r\n",
        "posicion_final_nombre2=len(nombre2)-1\r\n",
        "if nombre1[0] == nombre2[0] or nombre1[posicion_final_nombre1] == nombre2[posicion_final_nombre2]:\r\n",
        "    print(\"coincidencia\")\r\n",
        "else:\r\n",
        "    print(\"no hay coincidencia\")"
      ],
      "execution_count": 1,
      "outputs": [
        {
          "output_type": "stream",
          "text": [
            "Un nombre: Alejandro\n",
            "Otro nombre: Alberto\n",
            "coincidencia\n"
          ],
          "name": "stdout"
        }
      ]
    }
  ]
}